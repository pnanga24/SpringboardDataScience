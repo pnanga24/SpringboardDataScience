{
 "cells": [
  {
   "cell_type": "markdown",
   "metadata": {},
   "source": [
    "# XML example and exercise\n",
    "****\n",
    "+ study examples of accessing nodes in XML tree structure  \n",
    "+ work on exercise to be completed and submitted\n",
    "****\n",
    "+ reference: https://docs.python.org/2.7/library/xml.etree.elementtree.html\n",
    "+ data source: http://www.dbis.informatik.uni-goettingen.de/Mondial\n",
    "****"
   ]
  },
  {
   "cell_type": "code",
   "execution_count": 5,
   "metadata": {
    "collapsed": true
   },
   "outputs": [],
   "source": [
    "from xml.etree import ElementTree as ET"
   ]
  },
  {
   "cell_type": "markdown",
   "metadata": {},
   "source": [
    "## XML example\n",
    "\n",
    "+ for details about tree traversal and iterators, see https://docs.python.org/2.7/library/xml.etree.elementtree.html"
   ]
  },
  {
   "cell_type": "code",
   "execution_count": 3,
   "metadata": {
    "collapsed": true
   },
   "outputs": [],
   "source": [
    "document_tree = ET.parse( './data/mondial_database_less.xml' )"
   ]
  },
  {
   "cell_type": "code",
   "execution_count": 4,
   "metadata": {
    "collapsed": false
   },
   "outputs": [
    {
     "name": "stdout",
     "output_type": "stream",
     "text": [
      "Albania\n",
      "Greece\n",
      "Macedonia\n",
      "Serbia\n",
      "Montenegro\n",
      "Kosovo\n",
      "Andorra\n"
     ]
    }
   ],
   "source": [
    "# print names of all countries\n",
    "for child in document_tree.getroot():\n",
    "    print child.find('name').text"
   ]
  },
  {
   "cell_type": "code",
   "execution_count": 5,
   "metadata": {
    "collapsed": false
   },
   "outputs": [
    {
     "name": "stdout",
     "output_type": "stream",
     "text": [
      "* Albania: Tirana, Shkodër, Durrës, Vlorë, Elbasan, Korçë\n",
      "* Greece: Komotini, Kavala, Athina, Peiraias, Peristeri, Acharnes, Patra, Kozani, Kerkyra, Ioannina, Thessaloniki, Iraklio, Chania, Ermoupoli, Rhodes, Tripoli, Lamia, Chalkida, Larissa, Volos, Mytilini, Karyes\n",
      "* Macedonia: Skopje, Kumanovo\n",
      "* Serbia: Beograd, Novi Sad, Niš\n",
      "* Montenegro: Podgorica\n",
      "* Kosovo: Prishtine\n",
      "* Andorra: Andorra la Vella\n"
     ]
    }
   ],
   "source": [
    "# print names of all countries and their cities\n",
    "for element in document_tree.iterfind('country'):\n",
    "    print '* ' + element.find('name').text + ':',\n",
    "    capitals_string = ''\n",
    "    for subelement in element.getiterator('city'):\n",
    "        capitals_string += subelement.find('name').text + ', '\n",
    "    print capitals_string[:-2]"
   ]
  },
  {
   "cell_type": "markdown",
   "metadata": {},
   "source": [
    "****\n",
    "## XML exercise\n",
    "\n",
    "Using data in 'data/mondial_database.xml', the examples above, and refering to https://docs.python.org/2.7/library/xml.etree.elementtree.html, find\n",
    "\n",
    "1. 10 countries with the lowest infant mortality rates\n",
    "2. 10 cities with the largest population\n",
    "3. 10 ethnic groups with the largest overall populations (sum of best/latest estimates over all countries)\n",
    "4. name and country of a) longest river, b) largest lake and c) airport at highest elevation"
   ]
  },
  {
   "cell_type": "code",
   "execution_count": 6,
   "metadata": {
    "collapsed": false
   },
   "outputs": [],
   "source": [
    "document = ET.parse( './data/mondial_database.xml' )"
   ]
  },
  {
   "cell_type": "code",
   "execution_count": 26,
   "metadata": {
    "collapsed": false
   },
   "outputs": [
    {
     "name": "stdout",
     "output_type": "stream",
     "text": [
      "13.19\n",
      "4.78\n",
      "7.9\n",
      "6.16\n",
      "Montenegro\n",
      "Kosovo\n",
      "3.69\n",
      "3.31\n",
      "3.33\n",
      "4.16\n",
      "2.63\n",
      "3.46\n",
      "5.09\n",
      "3.31\n",
      "4.33\n",
      "5.35\n",
      "4.04\n",
      "3.73\n",
      "3.64\n",
      "7.91\n",
      "6\n",
      "6.19\n",
      "8.1\n",
      "7.08\n",
      "4.18\n",
      "4.28\n",
      "3.66\n",
      "5.84\n",
      "5.87\n",
      "15.08\n",
      "10.16\n",
      "21.43\n",
      "4.1\n",
      "6.7\n",
      "5.71\n",
      "3.36\n",
      "2.48\n",
      "2.6\n",
      "1.81\n",
      "6.29\n",
      "3.47\n",
      "Holy See\n",
      "Ceuta\n",
      "Melilla\n",
      "3.15\n",
      "3.74\n",
      "4.52\n",
      "3.86\n",
      "3.59\n",
      "4.17\n",
      "12.93\n",
      "4.48\n",
      "Svalbard\n",
      "4.44\n",
      "117.23\n",
      "14.79\n",
      "39\n",
      "57.48\n",
      "35.03\n",
      "38.13\n",
      "19.84\n",
      "13.97\n",
      "16.68\n",
      "26.67\n",
      "9.68\n",
      "45.67\n",
      "44.91\n",
      "43.19\n",
      "37.89\n",
      "10.48\n",
      "13.69\n",
      "54.53\n",
      "9.86\n",
      "51.36\n",
      "18.99\n",
      "21.61\n",
      "24.5\n",
      "28.71\n",
      "2.73\n",
      "3.13\n",
      "23.15\n",
      "40.43\n",
      "Christmas Island\n",
      "Cocos Islands\n",
      "8.54\n",
      "30.6\n",
      "3.98\n",
      "22.41\n",
      "25.16\n",
      "38.79\n",
      "39.67\n",
      "37.53\n",
      "15.73\n",
      "7.51\n",
      "14.58\n",
      "15.79\n",
      "7.98\n",
      "28.6\n",
      "2.13\n",
      "3.93\n",
      "24.59\n",
      "14\n",
      "10.92\n",
      "50.41\n",
      "17.64\n",
      "6.42\n",
      "2.53\n",
      "9.02\n",
      "4.49\n",
      "3.4\n",
      "13.29\n",
      "11.74\n",
      "12.5\n",
      "10.93\n",
      "20.31\n",
      "23.51\n",
      "12.58\n",
      "2.48\n",
      "13.45\n",
      "4.71\n",
      "6.17\n",
      "6.21\n",
      "8.7\n",
      "20.36\n",
      "10.7\n",
      "4.7\n",
      "11.61\n",
      "19.63\n",
      "49.43\n",
      "18.44\n",
      "18.72\n",
      "9.42\n",
      "10.5\n",
      "8.3\n",
      "13.69\n",
      "7.1\n",
      "13.66\n",
      "Curacao\n",
      "9.05\n",
      "Saint Martin\n",
      "Saint Barthelemy\n",
      "15.02\n",
      "7.73\n",
      "8.98\n",
      "11.75\n",
      "6.95\n",
      "13.07\n",
      "24.82\n",
      "10.97\n",
      "6.79\n",
      "8.92\n",
      "4.43\n",
      "14.33\n",
      "10.2\n",
      "4.78\n",
      "5.51\n",
      "35.37\n",
      "21.39\n",
      "21.93\n",
      "8.21\n",
      "5.46\n",
      "4.59\n",
      "Niue\n",
      "Norfolk Island\n",
      "5.5\n",
      "11.46\n",
      "Pitcairn\n",
      "16.17\n",
      "12.36\n",
      "31.69\n",
      "Tokelau\n",
      "16.41\n",
      "4.49\n",
      "20.5\n",
      "9.96\n",
      "38.61\n",
      "19.21\n",
      "7.02\n",
      "20.75\n",
      "8.97\n",
      "20.21\n",
      "14.6\n",
      "33.56\n",
      "27.07\n",
      "19.33\n",
      "17.93\n",
      "Falkland Islands\n",
      "21.76\n",
      "11.87\n",
      "104.34\n",
      "56.06\n",
      "24.52\n",
      "86.27\n",
      "23.19\n",
      "145.82\n",
      "79.99\n",
      "59.34\n",
      "45.64\n",
      "73.15\n",
      "66.62\n",
      "57.09\n",
      "76.8\n",
      "74.09\n",
      "46.73\n",
      "9.38\n",
      "41.61\n",
      "26.55\n",
      "60.16\n",
      "38.52\n",
      "63.44\n",
      "59.59\n",
      "43.74\n",
      "55.1\n",
      "92.86\n",
      "90.3\n",
      "71.12\n",
      "47.03\n",
      "24.28\n",
      "52.86\n",
      "68.16\n",
      "65.31\n",
      "55.24\n",
      "69.19\n",
      "50.2\n",
      "38.44\n",
      "55.77\n",
      "100.14\n",
      "40.71\n",
      "65.74\n",
      "52.72\n",
      "90.92\n",
      "73.29\n",
      "60.82\n",
      "50.48\n",
      "44.88\n",
      "48.01\n",
      "72.42\n",
      "10.59\n",
      "56.29\n",
      "54.82\n",
      "7.5\n",
      "17.63\n",
      "49.16\n",
      "10.77\n"
     ]
    }
   ],
   "source": [
    "for child in document.findall('country'):\n",
    "    if child.find('infant_mortality') is not None:\n",
    "        print(child.find('infant_mortality').text)\n",
    "    else :\n",
    "        print(child.find('name').text)"
   ]
  },
  {
   "cell_type": "code",
   "execution_count": 28,
   "metadata": {
    "collapsed": false
   },
   "outputs": [],
   "source": [
    "import pandas as pd"
   ]
  },
  {
   "cell_type": "code",
   "execution_count": 62,
   "metadata": {
    "collapsed": false
   },
   "outputs": [
    {
     "data": {
      "text/html": [
       "<div>\n",
       "<table border=\"1\" class=\"dataframe\">\n",
       "  <thead>\n",
       "    <tr style=\"text-align: right;\">\n",
       "      <th></th>\n",
       "      <th>im</th>\n",
       "    </tr>\n",
       "  </thead>\n",
       "  <tbody>\n",
       "    <tr>\n",
       "      <th>Monaco</th>\n",
       "      <td>1.81</td>\n",
       "    </tr>\n",
       "    <tr>\n",
       "      <th>Japan</th>\n",
       "      <td>2.13</td>\n",
       "    </tr>\n",
       "    <tr>\n",
       "      <th>Bermuda</th>\n",
       "      <td>2.48</td>\n",
       "    </tr>\n",
       "    <tr>\n",
       "      <th>Norway</th>\n",
       "      <td>2.48</td>\n",
       "    </tr>\n",
       "    <tr>\n",
       "      <th>Singapore</th>\n",
       "      <td>2.53</td>\n",
       "    </tr>\n",
       "    <tr>\n",
       "      <th>Sweden</th>\n",
       "      <td>2.60</td>\n",
       "    </tr>\n",
       "    <tr>\n",
       "      <th>Czech Republic</th>\n",
       "      <td>2.63</td>\n",
       "    </tr>\n",
       "    <tr>\n",
       "      <th>Hong Kong</th>\n",
       "      <td>2.73</td>\n",
       "    </tr>\n",
       "    <tr>\n",
       "      <th>Macao</th>\n",
       "      <td>3.13</td>\n",
       "    </tr>\n",
       "    <tr>\n",
       "      <th>Iceland</th>\n",
       "      <td>3.15</td>\n",
       "    </tr>\n",
       "  </tbody>\n",
       "</table>\n",
       "</div>"
      ],
      "text/plain": [
       "                  im\n",
       "Monaco          1.81\n",
       "Japan           2.13\n",
       "Bermuda         2.48\n",
       "Norway          2.48\n",
       "Singapore       2.53\n",
       "Sweden          2.60\n",
       "Czech Republic  2.63\n",
       "Hong Kong       2.73\n",
       "Macao           3.13\n",
       "Iceland         3.15"
      ]
     },
     "execution_count": 62,
     "metadata": {},
     "output_type": "execute_result"
    }
   ],
   "source": [
    "# lowest mortality rates\n",
    "im = pd.DataFrame(columns = ['im'])\n",
    "for child in document.findall('country'):\n",
    "    if child.find('infant_mortality') is not None:\n",
    "        im.ix[child.find('name').text] = float(child.find('infant_mortality').text)\n",
    "    else :\n",
    "        im.ix[child.find('name').text] = None\n",
    "im.sort_values(by = 'im').head(10)"
   ]
  },
  {
   "cell_type": "code",
   "execution_count": 85,
   "metadata": {
    "collapsed": false
   },
   "outputs": [
    {
     "data": {
      "text/html": [
       "<div>\n",
       "<table border=\"1\" class=\"dataframe\">\n",
       "  <thead>\n",
       "    <tr style=\"text-align: right;\">\n",
       "      <th></th>\n",
       "      <th>pop</th>\n",
       "    </tr>\n",
       "  </thead>\n",
       "  <tbody>\n",
       "    <tr>\n",
       "      <th>Seoul (2010)</th>\n",
       "      <td>9708483.0</td>\n",
       "    </tr>\n",
       "    <tr>\n",
       "      <th>Singapore (2010)</th>\n",
       "      <td>5076700.0</td>\n",
       "    </tr>\n",
       "    <tr>\n",
       "      <th>New Taipei (2012)</th>\n",
       "      <td>3939305.0</td>\n",
       "    </tr>\n",
       "    <tr>\n",
       "      <th>Busan (2010)</th>\n",
       "      <td>3403135.0</td>\n",
       "    </tr>\n",
       "    <tr>\n",
       "      <th>Kaohsiung (2012)</th>\n",
       "      <td>2778659.0</td>\n",
       "    </tr>\n",
       "    <tr>\n",
       "      <th>Santo Domingo (2010)</th>\n",
       "      <td>2749703.0</td>\n",
       "    </tr>\n",
       "    <tr>\n",
       "      <th>Taichung (2012)</th>\n",
       "      <td>2684893.0</td>\n",
       "    </tr>\n",
       "    <tr>\n",
       "      <th>Taipei (2012)</th>\n",
       "      <td>2673226.0</td>\n",
       "    </tr>\n",
       "    <tr>\n",
       "      <th>Incheon (2010)</th>\n",
       "      <td>2637652.0</td>\n",
       "    </tr>\n",
       "    <tr>\n",
       "      <th>Daegu (2010)</th>\n",
       "      <td>2444085.0</td>\n",
       "    </tr>\n",
       "  </tbody>\n",
       "</table>\n",
       "</div>"
      ],
      "text/plain": [
       "                            pop\n",
       "Seoul (2010)          9708483.0\n",
       "Singapore (2010)      5076700.0\n",
       "New Taipei (2012)     3939305.0\n",
       "Busan (2010)          3403135.0\n",
       "Kaohsiung (2012)      2778659.0\n",
       "Santo Domingo (2010)  2749703.0\n",
       "Taichung (2012)       2684893.0\n",
       "Taipei (2012)         2673226.0\n",
       "Incheon (2010)        2637652.0\n",
       "Daegu (2010)          2444085.0"
      ]
     },
     "execution_count": 85,
     "metadata": {},
     "output_type": "execute_result"
    }
   ],
   "source": [
    "# highest population cities\n",
    "pop = pd.DataFrame(columns = ['pop'])\n",
    "for country in document.findall('country'):\n",
    "    for city in country.findall('city'):\n",
    "        for child in city.findall('population') :\n",
    "            # only using measurements from this decade\n",
    "            if int(child.attrib['year']) >= 2010 :\n",
    "                if child is not None:\n",
    "                    pop.ix[city.find('name').text + \" (\" + child.attrib['year'] + \")\"] = int(child.text)\n",
    "                else :\n",
    "                    pop.ix[city.find('name').text] = None\n",
    "pop.sort_values(by = 'pop', ascending = False).head(10)"
   ]
  },
  {
   "cell_type": "code",
   "execution_count": 87,
   "metadata": {
    "collapsed": false
   },
   "outputs": [
    {
     "data": {
      "text/html": [
       "<div>\n",
       "<table border=\"1\" class=\"dataframe\">\n",
       "  <thead>\n",
       "    <tr style=\"text-align: right;\">\n",
       "      <th></th>\n",
       "      <th>pop</th>\n",
       "    </tr>\n",
       "  </thead>\n",
       "  <tbody>\n",
       "    <tr>\n",
       "      <th>Albania</th>\n",
       "      <td>2800138.0</td>\n",
       "    </tr>\n",
       "    <tr>\n",
       "      <th>Greece</th>\n",
       "      <td>10816286.0</td>\n",
       "    </tr>\n",
       "    <tr>\n",
       "      <th>Macedonia</th>\n",
       "      <td>2059794.0</td>\n",
       "    </tr>\n",
       "    <tr>\n",
       "      <th>Serbia</th>\n",
       "      <td>7120666.0</td>\n",
       "    </tr>\n",
       "    <tr>\n",
       "      <th>Montenegro</th>\n",
       "      <td>620029.0</td>\n",
       "    </tr>\n",
       "  </tbody>\n",
       "</table>\n",
       "</div>"
      ],
      "text/plain": [
       "                   pop\n",
       "Albania      2800138.0\n",
       "Greece      10816286.0\n",
       "Macedonia    2059794.0\n",
       "Serbia       7120666.0\n",
       "Montenegro    620029.0"
      ]
     },
     "execution_count": 87,
     "metadata": {},
     "output_type": "execute_result"
    }
   ],
   "source": [
    "# best estimates for each country's population\n",
    "cpop = pd.DataFrame(columns = ['pop'])\n",
    "for country in document.findall('country') :\n",
    "    best = None\n",
    "    for p in country.findall('population') :\n",
    "        best = p\n",
    "    cpop.ix[country.find('name').text] = int(best.text) "
   ]
  },
  {
   "cell_type": "code",
   "execution_count": 115,
   "metadata": {
    "collapsed": false
   },
   "outputs": [
    {
     "data": {
      "text/html": [
       "<div>\n",
       "<table border=\"1\" class=\"dataframe\">\n",
       "  <thead>\n",
       "    <tr style=\"text-align: right;\">\n",
       "      <th></th>\n",
       "      <th>pop</th>\n",
       "    </tr>\n",
       "  </thead>\n",
       "  <tbody>\n",
       "    <tr>\n",
       "      <th>Han Chinese</th>\n",
       "      <td>1.245059e+09</td>\n",
       "    </tr>\n",
       "    <tr>\n",
       "      <th>Indo-Aryan</th>\n",
       "      <td>8.718156e+08</td>\n",
       "    </tr>\n",
       "    <tr>\n",
       "      <th>European</th>\n",
       "      <td>4.948722e+08</td>\n",
       "    </tr>\n",
       "    <tr>\n",
       "      <th>African</th>\n",
       "      <td>3.183251e+08</td>\n",
       "    </tr>\n",
       "    <tr>\n",
       "      <th>Dravidian</th>\n",
       "      <td>3.027137e+08</td>\n",
       "    </tr>\n",
       "    <tr>\n",
       "      <th>Mestizo</th>\n",
       "      <td>1.577344e+08</td>\n",
       "    </tr>\n",
       "    <tr>\n",
       "      <th>Bengali</th>\n",
       "      <td>1.467769e+08</td>\n",
       "    </tr>\n",
       "    <tr>\n",
       "      <th>Russian</th>\n",
       "      <td>1.318570e+08</td>\n",
       "    </tr>\n",
       "    <tr>\n",
       "      <th>Japanese</th>\n",
       "      <td>1.265342e+08</td>\n",
       "    </tr>\n",
       "    <tr>\n",
       "      <th>Malay</th>\n",
       "      <td>1.219936e+08</td>\n",
       "    </tr>\n",
       "  </tbody>\n",
       "</table>\n",
       "</div>"
      ],
      "text/plain": [
       "                      pop\n",
       "Han Chinese  1.245059e+09\n",
       "Indo-Aryan   8.718156e+08\n",
       "European     4.948722e+08\n",
       "African      3.183251e+08\n",
       "Dravidian    3.027137e+08\n",
       "Mestizo      1.577344e+08\n",
       "Bengali      1.467769e+08\n",
       "Russian      1.318570e+08\n",
       "Japanese     1.265342e+08\n",
       "Malay        1.219936e+08"
      ]
     },
     "execution_count": 115,
     "metadata": {},
     "output_type": "execute_result"
    }
   ],
   "source": [
    "# highest population ethnic groups\n",
    "eth = pd.DataFrame(columns = ['pop'])\n",
    "for country in document.findall('country'):\n",
    "    for eg in country.findall('ethnicgroup'):\n",
    "        if eg.text in eth.index:\n",
    "            eth.ix[eg.text] += float(eg.attrib['percentage']) * .01 * cpop.ix[country.find('name').text]\n",
    "        else :\n",
    "            eth.ix[eg.text] = float(eg.attrib['percentage']) * .01 * cpop.ix[country.find('name').text]\n",
    "eth.sort_values(by = 'pop', ascending = False).head(10)"
   ]
  },
  {
   "cell_type": "code",
   "execution_count": 122,
   "metadata": {
    "collapsed": false
   },
   "outputs": [
    {
     "name": "stdout",
     "output_type": "stream",
     "text": [
      "Longest River: Amazonas of CO BR PE\n"
     ]
    }
   ],
   "source": [
    "# longest river\n",
    "lrn = \"\"\n",
    "lrl = 0\n",
    "lrc = \"\"\n",
    "for river in document.findall('river'):\n",
    "    if (river.find('length') is not None):\n",
    "        if(float(river.find('length').text) > lrl):\n",
    "            lrn = river.find('name').text\n",
    "            lrl = float(river.find('length').text)\n",
    "            lrc = river.attrib['country']\n",
    "print(\"Longest River: \" + lrn + \" of \" + lrc)"
   ]
  },
  {
   "cell_type": "code",
   "execution_count": 124,
   "metadata": {
    "collapsed": false
   },
   "outputs": [
    {
     "name": "stdout",
     "output_type": "stream",
     "text": [
      "Largest Lake: Caspian Sea of R AZ KAZ IR TM\n"
     ]
    }
   ],
   "source": [
    "# largest lake\n",
    "lln = \"\"\n",
    "lla = 0\n",
    "llc = \"\"\n",
    "for lake in document.findall('lake'):\n",
    "    if (lake.find('area') is not None):\n",
    "        if(float(lake.find('area').text) > lla):\n",
    "            lln = lake.find('name').text\n",
    "            lla = float(lake.find('area').text)\n",
    "            llc = lake.attrib['country']\n",
    "print(\"Largest Lake: \" + lln + \" of \" + llc)"
   ]
  },
  {
   "cell_type": "code",
   "execution_count": 126,
   "metadata": {
    "collapsed": false
   },
   "outputs": [
    {
     "name": "stdout",
     "output_type": "stream",
     "text": [
      "Highest Airport: El Alto Intl of BOL\n"
     ]
    }
   ],
   "source": [
    "# highest airport\n",
    "han = \"\"\n",
    "hae = 0\n",
    "hac = \"\"\n",
    "for air in document.findall('airport'):\n",
    "    if (air.find('elevation').text is not None):\n",
    "        if(float(air.find('elevation').text) > hae):\n",
    "            han = air.find('name').text\n",
    "            hae = float(air.find('elevation').text)\n",
    "            hac = air.attrib['country']\n",
    "print(\"Highest Airport: \" + han + \" of \" + hac)"
   ]
  },
  {
   "cell_type": "code",
   "execution_count": null,
   "metadata": {
    "collapsed": true
   },
   "outputs": [],
   "source": []
  },
  {
   "cell_type": "code",
   "execution_count": null,
   "metadata": {
    "collapsed": true
   },
   "outputs": [],
   "source": []
  },
  {
   "cell_type": "code",
   "execution_count": null,
   "metadata": {
    "collapsed": true
   },
   "outputs": [],
   "source": []
  },
  {
   "cell_type": "code",
   "execution_count": null,
   "metadata": {
    "collapsed": true
   },
   "outputs": [],
   "source": []
  }
 ],
 "metadata": {
  "kernelspec": {
   "display_name": "Python [Root]",
   "language": "python",
   "name": "Python [Root]"
  },
  "language_info": {
   "codemirror_mode": {
    "name": "ipython",
    "version": 3
   },
   "file_extension": ".py",
   "mimetype": "text/x-python",
   "name": "python",
   "nbconvert_exporter": "python",
   "pygments_lexer": "ipython3",
   "version": "3.5.2"
  }
 },
 "nbformat": 4,
 "nbformat_minor": 0
}
