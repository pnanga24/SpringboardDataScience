{
 "cells": [
  {
   "cell_type": "markdown",
   "metadata": {},
   "source": [
    "First - data wrangling."
   ]
  },
  {
   "cell_type": "code",
   "execution_count": 1,
   "metadata": {
    "collapsed": true
   },
   "outputs": [],
   "source": [
    "import pandas as pd\n",
    "import numpy as np\n",
    "import matplotlib.pyplot as plt\n",
    "import scipy.stats as st\n",
    "%matplotlib inline"
   ]
  },
  {
   "cell_type": "code",
   "execution_count": 2,
   "metadata": {
    "collapsed": false
   },
   "outputs": [
    {
     "data": {
      "text/html": [
       "<div>\n",
       "<table border=\"1\" class=\"dataframe\">\n",
       "  <thead>\n",
       "    <tr style=\"text-align: right;\">\n",
       "      <th></th>\n",
       "      <th>Id</th>\n",
       "      <th>Sequence</th>\n",
       "    </tr>\n",
       "  </thead>\n",
       "  <tbody>\n",
       "    <tr>\n",
       "      <th>0</th>\n",
       "      <td>3</td>\n",
       "      <td>1,3,13,87,1053,28576,2141733,508147108,4021352...</td>\n",
       "    </tr>\n",
       "    <tr>\n",
       "      <th>1</th>\n",
       "      <td>7</td>\n",
       "      <td>1,2,1,5,5,1,11,16,7,1,23,44,30,9,1,47,112,104,...</td>\n",
       "    </tr>\n",
       "    <tr>\n",
       "      <th>2</th>\n",
       "      <td>8</td>\n",
       "      <td>1,2,4,5,8,10,16,20,32,40,64,80,128,160,256,320...</td>\n",
       "    </tr>\n",
       "    <tr>\n",
       "      <th>3</th>\n",
       "      <td>11</td>\n",
       "      <td>1,8,25,83,274,2275,132224,1060067,3312425,1099...</td>\n",
       "    </tr>\n",
       "    <tr>\n",
       "      <th>4</th>\n",
       "      <td>13</td>\n",
       "      <td>1,111,12211,1343211,147753211,16252853211,1787...</td>\n",
       "    </tr>\n",
       "  </tbody>\n",
       "</table>\n",
       "</div>"
      ],
      "text/plain": [
       "   Id                                           Sequence\n",
       "0   3  1,3,13,87,1053,28576,2141733,508147108,4021352...\n",
       "1   7  1,2,1,5,5,1,11,16,7,1,23,44,30,9,1,47,112,104,...\n",
       "2   8  1,2,4,5,8,10,16,20,32,40,64,80,128,160,256,320...\n",
       "3  11  1,8,25,83,274,2275,132224,1060067,3312425,1099...\n",
       "4  13  1,111,12211,1343211,147753211,16252853211,1787..."
      ]
     },
     "execution_count": 2,
     "metadata": {},
     "output_type": "execute_result"
    }
   ],
   "source": [
    "df = pd.read_csv('train.csv')\n",
    "df.head()"
   ]
  },
  {
   "cell_type": "code",
   "execution_count": 3,
   "metadata": {
    "collapsed": false
   },
   "outputs": [
    {
     "data": {
      "text/html": [
       "<div>\n",
       "<table border=\"1\" class=\"dataframe\">\n",
       "  <thead>\n",
       "    <tr style=\"text-align: right;\">\n",
       "      <th></th>\n",
       "      <th>Id</th>\n",
       "      <th>Sequence</th>\n",
       "    </tr>\n",
       "  </thead>\n",
       "  <tbody>\n",
       "    <tr>\n",
       "      <th>0</th>\n",
       "      <td>3</td>\n",
       "      <td>[1, 3, 13, 87, 1053, 28576, 2141733, 508147108...</td>\n",
       "    </tr>\n",
       "    <tr>\n",
       "      <th>1</th>\n",
       "      <td>7</td>\n",
       "      <td>[1, 2, 1, 5, 5, 1, 11, 16, 7, 1, 23, 44, 30, 9...</td>\n",
       "    </tr>\n",
       "    <tr>\n",
       "      <th>2</th>\n",
       "      <td>8</td>\n",
       "      <td>[1, 2, 4, 5, 8, 10, 16, 20, 32, 40, 64, 80, 12...</td>\n",
       "    </tr>\n",
       "    <tr>\n",
       "      <th>3</th>\n",
       "      <td>11</td>\n",
       "      <td>[1, 8, 25, 83, 274, 2275, 132224, 1060067, 331...</td>\n",
       "    </tr>\n",
       "    <tr>\n",
       "      <th>4</th>\n",
       "      <td>13</td>\n",
       "      <td>[1, 111, 12211, 1343211, 147753211, 1625285321...</td>\n",
       "    </tr>\n",
       "  </tbody>\n",
       "</table>\n",
       "</div>"
      ],
      "text/plain": [
       "   Id                                           Sequence\n",
       "0   3  [1, 3, 13, 87, 1053, 28576, 2141733, 508147108...\n",
       "1   7  [1, 2, 1, 5, 5, 1, 11, 16, 7, 1, 23, 44, 30, 9...\n",
       "2   8  [1, 2, 4, 5, 8, 10, 16, 20, 32, 40, 64, 80, 12...\n",
       "3  11  [1, 8, 25, 83, 274, 2275, 132224, 1060067, 331...\n",
       "4  13  [1, 111, 12211, 1343211, 147753211, 1625285321..."
      ]
     },
     "execution_count": 3,
     "metadata": {},
     "output_type": "execute_result"
    }
   ],
   "source": [
    "df.Sequence = df.Sequence.str.split(\",\")\n",
    "df.head()"
   ]
  },
  {
   "cell_type": "code",
   "execution_count": 4,
   "metadata": {
    "collapsed": false,
    "scrolled": true
   },
   "outputs": [
    {
     "data": {
      "text/html": [
       "<div>\n",
       "<table border=\"1\" class=\"dataframe\">\n",
       "  <thead>\n",
       "    <tr style=\"text-align: right;\">\n",
       "      <th></th>\n",
       "      <th>Id</th>\n",
       "      <th>Sequence</th>\n",
       "    </tr>\n",
       "  </thead>\n",
       "  <tbody>\n",
       "    <tr>\n",
       "      <th>0</th>\n",
       "      <td>3</td>\n",
       "      <td>[1, 3, 13, 87, 1053, 28576, 2141733, 508147108...</td>\n",
       "    </tr>\n",
       "    <tr>\n",
       "      <th>1</th>\n",
       "      <td>7</td>\n",
       "      <td>[1, 2, 1, 5, 5, 1, 11, 16, 7, 1, 23, 44, 30, 9...</td>\n",
       "    </tr>\n",
       "    <tr>\n",
       "      <th>2</th>\n",
       "      <td>8</td>\n",
       "      <td>[1, 2, 4, 5, 8, 10, 16, 20, 32, 40, 64, 80, 12...</td>\n",
       "    </tr>\n",
       "    <tr>\n",
       "      <th>3</th>\n",
       "      <td>11</td>\n",
       "      <td>[1, 8, 25, 83, 274, 2275, 132224, 1060067, 331...</td>\n",
       "    </tr>\n",
       "    <tr>\n",
       "      <th>4</th>\n",
       "      <td>13</td>\n",
       "      <td>[1, 111, 12211, 1343211, 147753211, 1625285321...</td>\n",
       "    </tr>\n",
       "  </tbody>\n",
       "</table>\n",
       "</div>"
      ],
      "text/plain": [
       "   Id                                           Sequence\n",
       "0   3  [1, 3, 13, 87, 1053, 28576, 2141733, 508147108...\n",
       "1   7  [1, 2, 1, 5, 5, 1, 11, 16, 7, 1, 23, 44, 30, 9...\n",
       "2   8  [1, 2, 4, 5, 8, 10, 16, 20, 32, 40, 64, 80, 12...\n",
       "3  11  [1, 8, 25, 83, 274, 2275, 132224, 1060067, 331...\n",
       "4  13  [1, 111, 12211, 1343211, 147753211, 1625285321..."
      ]
     },
     "execution_count": 4,
     "metadata": {},
     "output_type": "execute_result"
    }
   ],
   "source": [
    "def conv(a):\n",
    "    return list(map(int, a))\n",
    "df['Sequence'] = df.Sequence.apply(conv)\n",
    "df.head()"
   ]
  },
  {
   "cell_type": "markdown",
   "metadata": {},
   "source": [
    "Since this is the training dataset, we will use the first n-1 elements of the sequence to predict the next."
   ]
  },
  {
   "cell_type": "code",
   "execution_count": 5,
   "metadata": {
    "collapsed": false
   },
   "outputs": [
    {
     "data": {
      "text/html": [
       "<div>\n",
       "<table border=\"1\" class=\"dataframe\">\n",
       "  <thead>\n",
       "    <tr style=\"text-align: right;\">\n",
       "      <th></th>\n",
       "      <th>Id</th>\n",
       "      <th>Sequence</th>\n",
       "      <th>Next</th>\n",
       "    </tr>\n",
       "  </thead>\n",
       "  <tbody>\n",
       "    <tr>\n",
       "      <th>0</th>\n",
       "      <td>3</td>\n",
       "      <td>[1, 3, 13, 87, 1053, 28576, 2141733, 508147108...</td>\n",
       "      <td>11474377948948020660089085281068730</td>\n",
       "    </tr>\n",
       "    <tr>\n",
       "      <th>1</th>\n",
       "      <td>7</td>\n",
       "      <td>[1, 2, 1, 5, 5, 1, 11, 16, 7, 1, 23, 44, 30, 9...</td>\n",
       "      <td>7424</td>\n",
       "    </tr>\n",
       "    <tr>\n",
       "      <th>2</th>\n",
       "      <td>8</td>\n",
       "      <td>[1, 2, 4, 5, 8, 10, 16, 20, 32, 40, 64, 80, 12...</td>\n",
       "      <td>2097152</td>\n",
       "    </tr>\n",
       "    <tr>\n",
       "      <th>3</th>\n",
       "      <td>11</td>\n",
       "      <td>[1, 8, 25, 83, 274, 2275, 132224, 1060067, 331...</td>\n",
       "      <td>18610239435360217</td>\n",
       "    </tr>\n",
       "    <tr>\n",
       "      <th>4</th>\n",
       "      <td>13</td>\n",
       "      <td>[1, 111, 12211, 1343211, 147753211, 1625285321...</td>\n",
       "      <td>28792920887348623853211</td>\n",
       "    </tr>\n",
       "  </tbody>\n",
       "</table>\n",
       "</div>"
      ],
      "text/plain": [
       "   Id                                           Sequence  \\\n",
       "0   3  [1, 3, 13, 87, 1053, 28576, 2141733, 508147108...   \n",
       "1   7  [1, 2, 1, 5, 5, 1, 11, 16, 7, 1, 23, 44, 30, 9...   \n",
       "2   8  [1, 2, 4, 5, 8, 10, 16, 20, 32, 40, 64, 80, 12...   \n",
       "3  11  [1, 8, 25, 83, 274, 2275, 132224, 1060067, 331...   \n",
       "4  13  [1, 111, 12211, 1343211, 147753211, 1625285321...   \n",
       "\n",
       "                                  Next  \n",
       "0  11474377948948020660089085281068730  \n",
       "1                                 7424  \n",
       "2                              2097152  \n",
       "3                    18610239435360217  \n",
       "4              28792920887348623853211  "
      ]
     },
     "execution_count": 5,
     "metadata": {},
     "output_type": "execute_result"
    }
   ],
   "source": [
    "def last(a):\n",
    "    return a[-1]\n",
    "df['Next'] = df.Sequence.apply(last)\n",
    "df.head()"
   ]
  },
  {
   "cell_type": "code",
   "execution_count": 6,
   "metadata": {
    "collapsed": false
   },
   "outputs": [
    {
     "data": {
      "text/html": [
       "<div>\n",
       "<table border=\"1\" class=\"dataframe\">\n",
       "  <thead>\n",
       "    <tr style=\"text-align: right;\">\n",
       "      <th></th>\n",
       "      <th>Id</th>\n",
       "      <th>Sequence</th>\n",
       "      <th>Next</th>\n",
       "    </tr>\n",
       "  </thead>\n",
       "  <tbody>\n",
       "    <tr>\n",
       "      <th>0</th>\n",
       "      <td>3</td>\n",
       "      <td>[1, 3, 13, 87, 1053, 28576, 2141733, 508147108...</td>\n",
       "      <td>11474377948948020660089085281068730</td>\n",
       "    </tr>\n",
       "    <tr>\n",
       "      <th>1</th>\n",
       "      <td>7</td>\n",
       "      <td>[1, 2, 1, 5, 5, 1, 11, 16, 7, 1, 23, 44, 30, 9...</td>\n",
       "      <td>7424</td>\n",
       "    </tr>\n",
       "    <tr>\n",
       "      <th>2</th>\n",
       "      <td>8</td>\n",
       "      <td>[1, 2, 4, 5, 8, 10, 16, 20, 32, 40, 64, 80, 12...</td>\n",
       "      <td>2097152</td>\n",
       "    </tr>\n",
       "    <tr>\n",
       "      <th>3</th>\n",
       "      <td>11</td>\n",
       "      <td>[1, 8, 25, 83, 274, 2275, 132224, 1060067, 331...</td>\n",
       "      <td>18610239435360217</td>\n",
       "    </tr>\n",
       "    <tr>\n",
       "      <th>4</th>\n",
       "      <td>13</td>\n",
       "      <td>[1, 111, 12211, 1343211, 147753211, 1625285321...</td>\n",
       "      <td>28792920887348623853211</td>\n",
       "    </tr>\n",
       "  </tbody>\n",
       "</table>\n",
       "</div>"
      ],
      "text/plain": [
       "   Id                                           Sequence  \\\n",
       "0   3  [1, 3, 13, 87, 1053, 28576, 2141733, 508147108...   \n",
       "1   7  [1, 2, 1, 5, 5, 1, 11, 16, 7, 1, 23, 44, 30, 9...   \n",
       "2   8  [1, 2, 4, 5, 8, 10, 16, 20, 32, 40, 64, 80, 12...   \n",
       "3  11  [1, 8, 25, 83, 274, 2275, 132224, 1060067, 331...   \n",
       "4  13  [1, 111, 12211, 1343211, 147753211, 1625285321...   \n",
       "\n",
       "                                  Next  \n",
       "0  11474377948948020660089085281068730  \n",
       "1                                 7424  \n",
       "2                              2097152  \n",
       "3                    18610239435360217  \n",
       "4              28792920887348623853211  "
      ]
     },
     "execution_count": 6,
     "metadata": {},
     "output_type": "execute_result"
    }
   ],
   "source": [
    "def trim(a):\n",
    "    return a[:-1]\n",
    "df['Sequence'] = df.Sequence.apply(trim)\n",
    "df.head()"
   ]
  },
  {
   "cell_type": "code",
   "execution_count": 7,
   "metadata": {
    "collapsed": false
   },
   "outputs": [
    {
     "data": {
      "text/plain": [
       "0    [1, 3, 13, 87, 1053, 28576, 2141733, 508147108...\n",
       "1    [1, 2, 1, 5, 5, 1, 11, 16, 7, 1, 23, 44, 30, 9...\n",
       "2    [1, 2, 4, 5, 8, 10, 16, 20, 32, 40, 64, 80, 12...\n",
       "3    [1, 8, 25, 83, 274, 2275, 132224, 1060067, 331...\n",
       "4    [1, 111, 12211, 1343211, 147753211, 1625285321...\n",
       "Name: Sequence, dtype: object"
      ]
     },
     "execution_count": 7,
     "metadata": {},
     "output_type": "execute_result"
    }
   ],
   "source": [
    "X = df.Sequence\n",
    "X.head()"
   ]
  },
  {
   "cell_type": "code",
   "execution_count": 8,
   "metadata": {
    "collapsed": false,
    "scrolled": true
   },
   "outputs": [
    {
     "data": {
      "text/plain": [
       "0    11474377948948020660089085281068730\n",
       "1                                   7424\n",
       "2                                2097152\n",
       "3                      18610239435360217\n",
       "4                28792920887348623853211\n",
       "Name: Next, dtype: object"
      ]
     },
     "execution_count": 8,
     "metadata": {},
     "output_type": "execute_result"
    }
   ],
   "source": [
    "y = df.Next\n",
    "y.head()"
   ]
  },
  {
   "cell_type": "markdown",
   "metadata": {},
   "source": [
    "Data exploration showed that some sequences were only one number long. Thus, removing the last number would result in some empty sequences. These will be removed from the training set."
   ]
  },
  {
   "cell_type": "code",
   "execution_count": 9,
   "metadata": {
    "collapsed": false
   },
   "outputs": [],
   "source": [
    "def notempty(a):\n",
    "    if len(a) == 0:\n",
    "        return False\n",
    "    else:\n",
    "        return True\n",
    "empty = df.Sequence.apply(notempty)\n",
    "df = df[empty]\n"
   ]
  },
  {
   "cell_type": "markdown",
   "metadata": {},
   "source": [
    "The following regressions will be based on fitting a model on each sequence individually. "
   ]
  },
  {
   "cell_type": "code",
   "execution_count": 10,
   "metadata": {
    "collapsed": false
   },
   "outputs": [
    {
     "data": {
      "text/html": [
       "<div>\n",
       "<table border=\"1\" class=\"dataframe\">\n",
       "  <thead>\n",
       "    <tr style=\"text-align: right;\">\n",
       "      <th></th>\n",
       "      <th>Id</th>\n",
       "      <th>Sequence</th>\n",
       "      <th>Next</th>\n",
       "      <th>Predicted</th>\n",
       "    </tr>\n",
       "  </thead>\n",
       "  <tbody>\n",
       "    <tr>\n",
       "      <th>0</th>\n",
       "      <td>3</td>\n",
       "      <td>[1, 3, 13, 87, 1053, 28576, 2141733, 508147108...</td>\n",
       "      <td>11474377948948020660089085281068730</td>\n",
       "      <td>9686037302534585361341874176</td>\n",
       "    </tr>\n",
       "    <tr>\n",
       "      <th>1</th>\n",
       "      <td>7</td>\n",
       "      <td>[1, 2, 1, 5, 5, 1, 11, 16, 7, 1, 23, 44, 30, 9...</td>\n",
       "      <td>7424</td>\n",
       "      <td>2040</td>\n",
       "    </tr>\n",
       "    <tr>\n",
       "      <th>2</th>\n",
       "      <td>8</td>\n",
       "      <td>[1, 2, 4, 5, 8, 10, 16, 20, 32, 40, 64, 80, 12...</td>\n",
       "      <td>2097152</td>\n",
       "      <td>427497</td>\n",
       "    </tr>\n",
       "    <tr>\n",
       "      <th>3</th>\n",
       "      <td>11</td>\n",
       "      <td>[1, 8, 25, 83, 274, 2275, 132224, 1060067, 331...</td>\n",
       "      <td>18610239435360217</td>\n",
       "      <td>497554387365308</td>\n",
       "    </tr>\n",
       "    <tr>\n",
       "      <th>4</th>\n",
       "      <td>13</td>\n",
       "      <td>[1, 111, 12211, 1343211, 147753211, 1625285321...</td>\n",
       "      <td>28792920887348623853211</td>\n",
       "      <td>95924262224266362880</td>\n",
       "    </tr>\n",
       "  </tbody>\n",
       "</table>\n",
       "</div>"
      ],
      "text/plain": [
       "   Id                                           Sequence  \\\n",
       "0   3  [1, 3, 13, 87, 1053, 28576, 2141733, 508147108...   \n",
       "1   7  [1, 2, 1, 5, 5, 1, 11, 16, 7, 1, 23, 44, 30, 9...   \n",
       "2   8  [1, 2, 4, 5, 8, 10, 16, 20, 32, 40, 64, 80, 12...   \n",
       "3  11  [1, 8, 25, 83, 274, 2275, 132224, 1060067, 331...   \n",
       "4  13  [1, 111, 12211, 1343211, 147753211, 1625285321...   \n",
       "\n",
       "                                  Next                     Predicted  \n",
       "0  11474377948948020660089085281068730  9686037302534585361341874176  \n",
       "1                                 7424                          2040  \n",
       "2                              2097152                        427497  \n",
       "3                    18610239435360217               497554387365308  \n",
       "4              28792920887348623853211          95924262224266362880  "
      ]
     },
     "execution_count": 10,
     "metadata": {},
     "output_type": "execute_result"
    }
   ],
   "source": [
    "from sklearn.linear_model import LinearRegression\n",
    "\n",
    "def linear_predict(a):\n",
    "    lm = LinearRegression()\n",
    "    x = np.array(range(0, len(a)))\n",
    "    lm.fit(x.reshape(x.shape[0], 1), a)\n",
    "    return int(round(lm.predict(len(a))[0]))\n",
    "df['Predicted'] = df.Sequence.apply(linear_predict)\n",
    "df.head()\n"
   ]
  },
  {
   "cell_type": "code",
   "execution_count": 11,
   "metadata": {
    "collapsed": false
   },
   "outputs": [
    {
     "data": {
      "text/html": [
       "<div>\n",
       "<table border=\"1\" class=\"dataframe\">\n",
       "  <thead>\n",
       "    <tr style=\"text-align: right;\">\n",
       "      <th></th>\n",
       "      <th>Id</th>\n",
       "      <th>Sequence</th>\n",
       "      <th>Next</th>\n",
       "      <th>Predicted</th>\n",
       "    </tr>\n",
       "  </thead>\n",
       "  <tbody>\n",
       "    <tr>\n",
       "      <th>38</th>\n",
       "      <td>77</td>\n",
       "      <td>[0, 0, 0, 0, 0, 0, 1, 1, 1, 1, 1, 1, 2, 2, 2, ...</td>\n",
       "      <td>14</td>\n",
       "      <td>14</td>\n",
       "    </tr>\n",
       "    <tr>\n",
       "      <th>111</th>\n",
       "      <td>221</td>\n",
       "      <td>[0, 1, 2, 3, 4, 5, 7, 8, 9, 10, 11, 12, 13, 14...</td>\n",
       "      <td>87</td>\n",
       "      <td>87</td>\n",
       "    </tr>\n",
       "    <tr>\n",
       "      <th>142</th>\n",
       "      <td>277</td>\n",
       "      <td>[31, 41, 59, 61, 71, 101, 103, 113, 131, 151, ...</td>\n",
       "      <td>691</td>\n",
       "      <td>691</td>\n",
       "    </tr>\n",
       "    <tr>\n",
       "      <th>195</th>\n",
       "      <td>378</td>\n",
       "      <td>[4, 2, 6, 4, 2, 2, 2, 2, 4, 2, 2, 6, 2, 2, 2, ...</td>\n",
       "      <td>2</td>\n",
       "      <td>2</td>\n",
       "    </tr>\n",
       "    <tr>\n",
       "      <th>262</th>\n",
       "      <td>535</td>\n",
       "      <td>[1, 3, 5, 6, 8, 10, 11, 13, 15, 16, 18, 20, 22...</td>\n",
       "      <td>143</td>\n",
       "      <td>143</td>\n",
       "    </tr>\n",
       "  </tbody>\n",
       "</table>\n",
       "</div>"
      ],
      "text/plain": [
       "      Id                                           Sequence Next Predicted\n",
       "38    77  [0, 0, 0, 0, 0, 0, 1, 1, 1, 1, 1, 1, 2, 2, 2, ...   14        14\n",
       "111  221  [0, 1, 2, 3, 4, 5, 7, 8, 9, 10, 11, 12, 13, 14...   87        87\n",
       "142  277  [31, 41, 59, 61, 71, 101, 103, 113, 131, 151, ...  691       691\n",
       "195  378  [4, 2, 6, 4, 2, 2, 2, 2, 4, 2, 2, 6, 2, 2, 2, ...    2         2\n",
       "262  535  [1, 3, 5, 6, 8, 10, 11, 13, 15, 16, 18, 20, 22...  143       143"
      ]
     },
     "execution_count": 11,
     "metadata": {},
     "output_type": "execute_result"
    }
   ],
   "source": [
    "linear_correct = df[df.Next == df.Predicted]\n",
    "linear_correct.head()"
   ]
  },
  {
   "cell_type": "code",
   "execution_count": 12,
   "metadata": {
    "collapsed": false
   },
   "outputs": [
    {
     "data": {
      "text/plain": [
       "4.513391719885101"
      ]
     },
     "execution_count": 12,
     "metadata": {},
     "output_type": "execute_result"
    }
   ],
   "source": [
    "# percentage of correct predictions\n",
    "linear_accuracy = 100 * len(linear_correct)/len(df)\n",
    "linear_accuracy"
   ]
  },
  {
   "cell_type": "markdown",
   "metadata": {},
   "source": [
    "The linear model wasn't terribly accurate. Would adding more degrees to the polynomial improve accuracy, or would it overfit to the given numbers?"
   ]
  },
  {
   "cell_type": "code",
   "execution_count": 13,
   "metadata": {
    "collapsed": false
   },
   "outputs": [
    {
     "data": {
      "text/html": [
       "<div>\n",
       "<table border=\"1\" class=\"dataframe\">\n",
       "  <thead>\n",
       "    <tr style=\"text-align: right;\">\n",
       "      <th></th>\n",
       "      <th>Id</th>\n",
       "      <th>Sequence</th>\n",
       "      <th>Next</th>\n",
       "      <th>Predicted</th>\n",
       "      <th>Polynomial Prediction</th>\n",
       "    </tr>\n",
       "  </thead>\n",
       "  <tbody>\n",
       "    <tr>\n",
       "      <th>0</th>\n",
       "      <td>3</td>\n",
       "      <td>[1, 3, 13, 87, 1053, 28576, 2141733, 508147108...</td>\n",
       "      <td>11474377948948020660089085281068730</td>\n",
       "      <td>9686037302534585361341874176</td>\n",
       "      <td>87173233777729598913654030336</td>\n",
       "    </tr>\n",
       "    <tr>\n",
       "      <th>1</th>\n",
       "      <td>7</td>\n",
       "      <td>[1, 2, 1, 5, 5, 1, 11, 16, 7, 1, 23, 44, 30, 9...</td>\n",
       "      <td>7424</td>\n",
       "      <td>2040</td>\n",
       "      <td>-1297</td>\n",
       "    </tr>\n",
       "    <tr>\n",
       "      <th>2</th>\n",
       "      <td>8</td>\n",
       "      <td>[1, 2, 4, 5, 8, 10, 16, 20, 32, 40, 64, 80, 12...</td>\n",
       "      <td>2097152</td>\n",
       "      <td>427497</td>\n",
       "      <td>1675953</td>\n",
       "    </tr>\n",
       "    <tr>\n",
       "      <th>3</th>\n",
       "      <td>11</td>\n",
       "      <td>[1, 8, 25, 83, 274, 2275, 132224, 1060067, 331...</td>\n",
       "      <td>18610239435360217</td>\n",
       "      <td>497554387365308</td>\n",
       "      <td>4396180720475370</td>\n",
       "    </tr>\n",
       "    <tr>\n",
       "      <th>4</th>\n",
       "      <td>13</td>\n",
       "      <td>[1, 111, 12211, 1343211, 147753211, 1625285321...</td>\n",
       "      <td>28792920887348623853211</td>\n",
       "      <td>95924262224266362880</td>\n",
       "      <td>850778089221123342336</td>\n",
       "    </tr>\n",
       "  </tbody>\n",
       "</table>\n",
       "</div>"
      ],
      "text/plain": [
       "   Id                                           Sequence  \\\n",
       "0   3  [1, 3, 13, 87, 1053, 28576, 2141733, 508147108...   \n",
       "1   7  [1, 2, 1, 5, 5, 1, 11, 16, 7, 1, 23, 44, 30, 9...   \n",
       "2   8  [1, 2, 4, 5, 8, 10, 16, 20, 32, 40, 64, 80, 12...   \n",
       "3  11  [1, 8, 25, 83, 274, 2275, 132224, 1060067, 331...   \n",
       "4  13  [1, 111, 12211, 1343211, 147753211, 1625285321...   \n",
       "\n",
       "                                  Next                     Predicted  \\\n",
       "0  11474377948948020660089085281068730  9686037302534585361341874176   \n",
       "1                                 7424                          2040   \n",
       "2                              2097152                        427497   \n",
       "3                    18610239435360217               497554387365308   \n",
       "4              28792920887348623853211          95924262224266362880   \n",
       "\n",
       "           Polynomial Prediction  \n",
       "0  87173233777729598913654030336  \n",
       "1                          -1297  \n",
       "2                        1675953  \n",
       "3               4396180720475370  \n",
       "4          850778089221123342336  "
      ]
     },
     "execution_count": 13,
     "metadata": {},
     "output_type": "execute_result"
    }
   ],
   "source": [
    "from sklearn.grid_search import GridSearchCV\n",
    "from sklearn.pipeline import Pipeline\n",
    "from sklearn.preprocessing import PolynomialFeatures\n",
    "\n",
    "\n",
    "def polynomial_predict(a):\n",
    "    x = np.array(range(0, len(a)))\n",
    "    lowest_mse = float(\"inf\")\n",
    "    global best_p\n",
    "    for deg in range(1, 6):\n",
    "        p, res, _, _, _ = np.polyfit(x, a, deg, full = True)\n",
    "        p = np.poly1d(p)\n",
    "        if res < lowest_mse:\n",
    "            lowest_mse = res\n",
    "            best_p = p\n",
    "    return int(round(best_p(len(a))))\n",
    "df['Polynomial Prediction'] = df.Sequence.apply(polynomial_predict)\n",
    "df.head()"
   ]
  },
  {
   "cell_type": "code",
   "execution_count": 14,
   "metadata": {
    "collapsed": false,
    "scrolled": true
   },
   "outputs": [
    {
     "data": {
      "text/html": [
       "<div>\n",
       "<table border=\"1\" class=\"dataframe\">\n",
       "  <thead>\n",
       "    <tr style=\"text-align: right;\">\n",
       "      <th></th>\n",
       "      <th>Id</th>\n",
       "      <th>Sequence</th>\n",
       "      <th>Next</th>\n",
       "      <th>Predicted</th>\n",
       "      <th>Polynomial Prediction</th>\n",
       "    </tr>\n",
       "  </thead>\n",
       "  <tbody>\n",
       "    <tr>\n",
       "      <th>38</th>\n",
       "      <td>77</td>\n",
       "      <td>[0, 0, 0, 0, 0, 0, 1, 1, 1, 1, 1, 1, 2, 2, 2, ...</td>\n",
       "      <td>14</td>\n",
       "      <td>14</td>\n",
       "      <td>14</td>\n",
       "    </tr>\n",
       "    <tr>\n",
       "      <th>58</th>\n",
       "      <td>119</td>\n",
       "      <td>[2, 3, 6, 7, 8, 10, 11, 12, 13, 14, 15, 17, 18]</td>\n",
       "      <td>19</td>\n",
       "      <td>20</td>\n",
       "      <td>19</td>\n",
       "    </tr>\n",
       "    <tr>\n",
       "      <th>66</th>\n",
       "      <td>136</td>\n",
       "      <td>[0, 15, 54, 117, 204, 315, 450, 609, 792, 999,...</td>\n",
       "      <td>18369</td>\n",
       "      <td>15089</td>\n",
       "      <td>18369</td>\n",
       "    </tr>\n",
       "    <tr>\n",
       "      <th>80</th>\n",
       "      <td>164</td>\n",
       "      <td>[2, 5, 10, 11, 15, 18, 19, 21, 25, 26, 28, 35,...</td>\n",
       "      <td>165</td>\n",
       "      <td>163</td>\n",
       "      <td>165</td>\n",
       "    </tr>\n",
       "    <tr>\n",
       "      <th>91</th>\n",
       "      <td>181</td>\n",
       "      <td>[0, 12, 60, 144, 264, 420, 612, 840, 1104, 140...</td>\n",
       "      <td>24420</td>\n",
       "      <td>19974</td>\n",
       "      <td>24420</td>\n",
       "    </tr>\n",
       "  </tbody>\n",
       "</table>\n",
       "</div>"
      ],
      "text/plain": [
       "     Id                                           Sequence   Next Predicted  \\\n",
       "38   77  [0, 0, 0, 0, 0, 0, 1, 1, 1, 1, 1, 1, 2, 2, 2, ...     14        14   \n",
       "58  119    [2, 3, 6, 7, 8, 10, 11, 12, 13, 14, 15, 17, 18]     19        20   \n",
       "66  136  [0, 15, 54, 117, 204, 315, 450, 609, 792, 999,...  18369     15089   \n",
       "80  164  [2, 5, 10, 11, 15, 18, 19, 21, 25, 26, 28, 35,...    165       163   \n",
       "91  181  [0, 12, 60, 144, 264, 420, 612, 840, 1104, 140...  24420     19974   \n",
       "\n",
       "   Polynomial Prediction  \n",
       "38                    14  \n",
       "58                    19  \n",
       "66                 18369  \n",
       "80                   165  \n",
       "91                 24420  "
      ]
     },
     "execution_count": 14,
     "metadata": {},
     "output_type": "execute_result"
    }
   ],
   "source": [
    "polynomial_correct = df[df['Polynomial Prediction'] == df.Next]\n",
    "polynomial_correct.head()"
   ]
  },
  {
   "cell_type": "code",
   "execution_count": 15,
   "metadata": {
    "collapsed": false
   },
   "outputs": [
    {
     "data": {
      "text/plain": [
       "6.797319020722248"
      ]
     },
     "execution_count": 15,
     "metadata": {},
     "output_type": "execute_result"
    }
   ],
   "source": [
    "polynomial_accuracy = 100 * len(polynomial_correct)/len(df)\n",
    "polynomial_accuracy"
   ]
  },
  {
   "cell_type": "markdown",
   "metadata": {},
   "source": [
    "The polynomial model was more accurate - 6.8% to 4.5%. What types of sequences were better suited for linear models versus polynomial?"
   ]
  },
  {
   "cell_type": "code",
   "execution_count": 16,
   "metadata": {
    "collapsed": false
   },
   "outputs": [
    {
     "data": {
      "text/html": [
       "<div>\n",
       "<table border=\"1\" class=\"dataframe\">\n",
       "  <thead>\n",
       "    <tr style=\"text-align: right;\">\n",
       "      <th></th>\n",
       "      <th>Id</th>\n",
       "      <th>Sequence</th>\n",
       "      <th>Next</th>\n",
       "      <th>Predicted</th>\n",
       "      <th>Polynomial Prediction</th>\n",
       "    </tr>\n",
       "  </thead>\n",
       "  <tbody>\n",
       "    <tr>\n",
       "      <th>142</th>\n",
       "      <td>277</td>\n",
       "      <td>[31, 41, 59, 61, 71, 101, 103, 113, 131, 151, ...</td>\n",
       "      <td>691</td>\n",
       "      <td>691</td>\n",
       "      <td>668</td>\n",
       "    </tr>\n",
       "    <tr>\n",
       "      <th>262</th>\n",
       "      <td>535</td>\n",
       "      <td>[1, 3, 5, 6, 8, 10, 11, 13, 15, 16, 18, 20, 22...</td>\n",
       "      <td>143</td>\n",
       "      <td>143</td>\n",
       "      <td>144</td>\n",
       "    </tr>\n",
       "    <tr>\n",
       "      <th>288</th>\n",
       "      <td>595</td>\n",
       "      <td>[1, 1, 1, 1, 0, 1, 1, 0, 2, 1, 1, 2, 0, 1, 1, ...</td>\n",
       "      <td>2</td>\n",
       "      <td>2</td>\n",
       "      <td>3</td>\n",
       "    </tr>\n",
       "    <tr>\n",
       "      <th>368</th>\n",
       "      <td>747</td>\n",
       "      <td>[0, 1, 1, 2, 3, 3, 4, 5, 6, 7, 8, 9, 10, 11, 1...</td>\n",
       "      <td>61</td>\n",
       "      <td>61</td>\n",
       "      <td>60</td>\n",
       "    </tr>\n",
       "    <tr>\n",
       "      <th>408</th>\n",
       "      <td>831</td>\n",
       "      <td>[5, 6, 5, 2, 3, 2, 0, 0, 3, 3, 0, 2, 3, 2, 0, ...</td>\n",
       "      <td>0</td>\n",
       "      <td>0</td>\n",
       "      <td>-1</td>\n",
       "    </tr>\n",
       "  </tbody>\n",
       "</table>\n",
       "</div>"
      ],
      "text/plain": [
       "      Id                                           Sequence Next Predicted  \\\n",
       "142  277  [31, 41, 59, 61, 71, 101, 103, 113, 131, 151, ...  691       691   \n",
       "262  535  [1, 3, 5, 6, 8, 10, 11, 13, 15, 16, 18, 20, 22...  143       143   \n",
       "288  595  [1, 1, 1, 1, 0, 1, 1, 0, 2, 1, 1, 2, 0, 1, 1, ...    2         2   \n",
       "368  747  [0, 1, 1, 2, 3, 3, 4, 5, 6, 7, 8, 9, 10, 11, 1...   61        61   \n",
       "408  831  [5, 6, 5, 2, 3, 2, 0, 0, 3, 3, 0, 2, 3, 2, 0, ...    0         0   \n",
       "\n",
       "    Polynomial Prediction  \n",
       "142                   668  \n",
       "262                   144  \n",
       "288                     3  \n",
       "368                    60  \n",
       "408                    -1  "
      ]
     },
     "execution_count": 16,
     "metadata": {},
     "output_type": "execute_result"
    }
   ],
   "source": [
    "lin_beats_poly = df[(df['Polynomial Prediction'] != df.Predicted) & (df.Predicted == df.Next)]\n",
    "lin_beats_poly.head()"
   ]
  },
  {
   "cell_type": "code",
   "execution_count": 17,
   "metadata": {
    "collapsed": false
   },
   "outputs": [
    {
     "data": {
      "text/plain": [
       "1.8754556874181958"
      ]
     },
     "execution_count": 17,
     "metadata": {},
     "output_type": "execute_result"
    }
   ],
   "source": [
    "# percentage of linear correct and polynomial incorrect\n",
    "linear_superiority = 100 * len(lin_beats_poly)/len(df)\n",
    "linear_superiority"
   ]
  },
  {
   "cell_type": "code",
   "execution_count": 18,
   "metadata": {
    "collapsed": false
   },
   "outputs": [
    {
     "data": {
      "text/plain": [
       "41.55313351498637"
      ]
     },
     "execution_count": 18,
     "metadata": {},
     "output_type": "execute_result"
    }
   ],
   "source": [
    "# probability that polynomial incorrect given linear correct\n",
    "100 * linear_superiority/linear_accuracy"
   ]
  },
  {
   "cell_type": "code",
   "execution_count": 19,
   "metadata": {
    "collapsed": false
   },
   "outputs": [
    {
     "data": {
      "text/html": [
       "<div>\n",
       "<table border=\"1\" class=\"dataframe\">\n",
       "  <thead>\n",
       "    <tr style=\"text-align: right;\">\n",
       "      <th></th>\n",
       "      <th>Id</th>\n",
       "      <th>Sequence</th>\n",
       "      <th>Next</th>\n",
       "      <th>Predicted</th>\n",
       "      <th>Polynomial Prediction</th>\n",
       "    </tr>\n",
       "  </thead>\n",
       "  <tbody>\n",
       "    <tr>\n",
       "      <th>58</th>\n",
       "      <td>119</td>\n",
       "      <td>[2, 3, 6, 7, 8, 10, 11, 12, 13, 14, 15, 17, 18]</td>\n",
       "      <td>19</td>\n",
       "      <td>20</td>\n",
       "      <td>19</td>\n",
       "    </tr>\n",
       "    <tr>\n",
       "      <th>66</th>\n",
       "      <td>136</td>\n",
       "      <td>[0, 15, 54, 117, 204, 315, 450, 609, 792, 999,...</td>\n",
       "      <td>18369</td>\n",
       "      <td>15089</td>\n",
       "      <td>18369</td>\n",
       "    </tr>\n",
       "    <tr>\n",
       "      <th>80</th>\n",
       "      <td>164</td>\n",
       "      <td>[2, 5, 10, 11, 15, 18, 19, 21, 25, 26, 28, 35,...</td>\n",
       "      <td>165</td>\n",
       "      <td>163</td>\n",
       "      <td>165</td>\n",
       "    </tr>\n",
       "    <tr>\n",
       "      <th>91</th>\n",
       "      <td>181</td>\n",
       "      <td>[0, 12, 60, 144, 264, 420, 612, 840, 1104, 140...</td>\n",
       "      <td>24420</td>\n",
       "      <td>19974</td>\n",
       "      <td>24420</td>\n",
       "    </tr>\n",
       "    <tr>\n",
       "      <th>114</th>\n",
       "      <td>224</td>\n",
       "      <td>[1, 1, 1, 2, 1, 1, 2, 1, 1, 2, 2, 2, 2, 2, 3, ...</td>\n",
       "      <td>3</td>\n",
       "      <td>4</td>\n",
       "      <td>3</td>\n",
       "    </tr>\n",
       "  </tbody>\n",
       "</table>\n",
       "</div>"
      ],
      "text/plain": [
       "      Id                                           Sequence   Next Predicted  \\\n",
       "58   119    [2, 3, 6, 7, 8, 10, 11, 12, 13, 14, 15, 17, 18]     19        20   \n",
       "66   136  [0, 15, 54, 117, 204, 315, 450, 609, 792, 999,...  18369     15089   \n",
       "80   164  [2, 5, 10, 11, 15, 18, 19, 21, 25, 26, 28, 35,...    165       163   \n",
       "91   181  [0, 12, 60, 144, 264, 420, 612, 840, 1104, 140...  24420     19974   \n",
       "114  224  [1, 1, 1, 2, 1, 1, 2, 1, 1, 2, 2, 2, 2, 2, 3, ...      3         4   \n",
       "\n",
       "    Polynomial Prediction  \n",
       "58                     19  \n",
       "66                  18369  \n",
       "80                    165  \n",
       "91                  24420  \n",
       "114                     3  "
      ]
     },
     "execution_count": 19,
     "metadata": {},
     "output_type": "execute_result"
    }
   ],
   "source": [
    "poly_beats_lin = df[(df['Polynomial Prediction'] == df.Next) & (df.Predicted != df.Next)]\n",
    "poly_beats_lin.head()"
   ]
  },
  {
   "cell_type": "code",
   "execution_count": 20,
   "metadata": {
    "collapsed": false
   },
   "outputs": [
    {
     "data": {
      "text/plain": [
       "4.159382988255343"
      ]
     },
     "execution_count": 20,
     "metadata": {},
     "output_type": "execute_result"
    }
   ],
   "source": [
    "# percentage of polynomial correct and linear incorrect\n",
    "polynomial_superiority = 100 * len(poly_beats_lin)/len(df)\n",
    "polynomial_superiority"
   ]
  },
  {
   "cell_type": "code",
   "execution_count": 21,
   "metadata": {
    "collapsed": false
   },
   "outputs": [
    {
     "data": {
      "text/plain": [
       "61.191522357198245"
      ]
     },
     "execution_count": 21,
     "metadata": {},
     "output_type": "execute_result"
    }
   ],
   "source": [
    "# probability that linear incorrect given polynomial correct\n",
    "100 * polynomial_superiority/polynomial_accuracy"
   ]
  },
  {
   "cell_type": "markdown",
   "metadata": {},
   "source": [
    "The Polynomial model fared better than the Linear model with respect to overall accuracy. There were cases where the linear model was correct and the polynomial model was incorrect, but far more where the polynomial model was correct and the linear model was incorrect. Thus, further minimization of the mean squared error did not directly translate to a correct prediction."
   ]
  },
  {
   "cell_type": "code",
   "execution_count": 22,
   "metadata": {
    "collapsed": false,
    "scrolled": true
   },
   "outputs": [
    {
     "data": {
      "text/plain": [
       "29.444215075677054"
      ]
     },
     "execution_count": 22,
     "metadata": {},
     "output_type": "execute_result"
    }
   ],
   "source": [
    "# percentage of time polynomial model within 10% of correct answer\n",
    "100 * len(df[(df['Polynomial Prediction'] >= 0.9 * df.Next) & (df['Polynomial Prediction'] <= 1.1 * df.Next)])/len(df)"
   ]
  },
  {
   "cell_type": "markdown",
   "metadata": {},
   "source": [
    "How would a smoothing approach, as typically used with timeseries, affect accuracy? In the following regression, sequences were subdivided, and a regression was fitted onto the means of the individual sections."
   ]
  },
  {
   "cell_type": "code",
   "execution_count": 23,
   "metadata": {
    "collapsed": false
   },
   "outputs": [
    {
     "data": {
      "text/html": [
       "<div>\n",
       "<table border=\"1\" class=\"dataframe\">\n",
       "  <thead>\n",
       "    <tr style=\"text-align: right;\">\n",
       "      <th></th>\n",
       "      <th>Id</th>\n",
       "      <th>Sequence</th>\n",
       "      <th>Next</th>\n",
       "      <th>Predicted</th>\n",
       "      <th>Polynomial Prediction</th>\n",
       "      <th>Smoothing Prediction</th>\n",
       "    </tr>\n",
       "  </thead>\n",
       "  <tbody>\n",
       "    <tr>\n",
       "      <th>0</th>\n",
       "      <td>3</td>\n",
       "      <td>[1, 3, 13, 87, 1053, 28576, 2141733, 508147108...</td>\n",
       "      <td>11474377948948020660089085281068730</td>\n",
       "      <td>9686037302534585361341874176</td>\n",
       "      <td>87173233777729598913654030336</td>\n",
       "      <td>6295931709284709288162361344</td>\n",
       "    </tr>\n",
       "    <tr>\n",
       "      <th>1</th>\n",
       "      <td>7</td>\n",
       "      <td>[1, 2, 1, 5, 5, 1, 11, 16, 7, 1, 23, 44, 30, 9...</td>\n",
       "      <td>7424</td>\n",
       "      <td>2040</td>\n",
       "      <td>-1297</td>\n",
       "      <td>2063</td>\n",
       "    </tr>\n",
       "    <tr>\n",
       "      <th>2</th>\n",
       "      <td>8</td>\n",
       "      <td>[1, 2, 4, 5, 8, 10, 16, 20, 32, 40, 64, 80, 12...</td>\n",
       "      <td>2097152</td>\n",
       "      <td>427497</td>\n",
       "      <td>1675953</td>\n",
       "      <td>445645</td>\n",
       "    </tr>\n",
       "    <tr>\n",
       "      <th>3</th>\n",
       "      <td>11</td>\n",
       "      <td>[1, 8, 25, 83, 274, 2275, 132224, 1060067, 331...</td>\n",
       "      <td>18610239435360217</td>\n",
       "      <td>497554387365308</td>\n",
       "      <td>4396180720475370</td>\n",
       "      <td>473368953981662</td>\n",
       "    </tr>\n",
       "    <tr>\n",
       "      <th>4</th>\n",
       "      <td>13</td>\n",
       "      <td>[1, 111, 12211, 1343211, 147753211, 1625285321...</td>\n",
       "      <td>28792920887348623853211</td>\n",
       "      <td>95924262224266362880</td>\n",
       "      <td>850778089221123342336</td>\n",
       "      <td>52833944948936867840</td>\n",
       "    </tr>\n",
       "  </tbody>\n",
       "</table>\n",
       "</div>"
      ],
      "text/plain": [
       "   Id                                           Sequence  \\\n",
       "0   3  [1, 3, 13, 87, 1053, 28576, 2141733, 508147108...   \n",
       "1   7  [1, 2, 1, 5, 5, 1, 11, 16, 7, 1, 23, 44, 30, 9...   \n",
       "2   8  [1, 2, 4, 5, 8, 10, 16, 20, 32, 40, 64, 80, 12...   \n",
       "3  11  [1, 8, 25, 83, 274, 2275, 132224, 1060067, 331...   \n",
       "4  13  [1, 111, 12211, 1343211, 147753211, 1625285321...   \n",
       "\n",
       "                                  Next                     Predicted  \\\n",
       "0  11474377948948020660089085281068730  9686037302534585361341874176   \n",
       "1                                 7424                          2040   \n",
       "2                              2097152                        427497   \n",
       "3                    18610239435360217               497554387365308   \n",
       "4              28792920887348623853211          95924262224266362880   \n",
       "\n",
       "           Polynomial Prediction          Smoothing Prediction  \n",
       "0  87173233777729598913654030336  6295931709284709288162361344  \n",
       "1                          -1297                          2063  \n",
       "2                        1675953                        445645  \n",
       "3               4396180720475370               473368953981662  \n",
       "4          850778089221123342336          52833944948936867840  "
      ]
     },
     "execution_count": 23,
     "metadata": {},
     "output_type": "execute_result"
    }
   ],
   "source": [
    "def split_list(a, parts=1):\n",
    "    length = len(a)\n",
    "    return [a[i*length // parts: (i+1)*length // parts] for i in range(parts)]\n",
    "\n",
    "def smoothing_linear(a):\n",
    "    if len(a) < 10:\n",
    "        parts = len(a)\n",
    "    else:\n",
    "        parts = 10\n",
    "    b = []\n",
    "    for i in split_list(a, parts=parts):\n",
    "        b.append(np.array(i).mean())\n",
    "    lm = LinearRegression()\n",
    "    x = np.array(range(0, len(b)))\n",
    "    lm.fit(x.reshape(x.shape[0], 1), b)\n",
    "    return int(round(lm.predict(len(b))[0]))\n",
    "df['Smoothing Prediction'] = df.Sequence.apply(smoothing_linear)\n",
    "df.head()"
   ]
  },
  {
   "cell_type": "code",
   "execution_count": 24,
   "metadata": {
    "collapsed": false
   },
   "outputs": [
    {
     "data": {
      "text/html": [
       "<div>\n",
       "<table border=\"1\" class=\"dataframe\">\n",
       "  <thead>\n",
       "    <tr style=\"text-align: right;\">\n",
       "      <th></th>\n",
       "      <th>Id</th>\n",
       "      <th>Sequence</th>\n",
       "      <th>Next</th>\n",
       "      <th>Predicted</th>\n",
       "      <th>Polynomial Prediction</th>\n",
       "      <th>Smoothing Prediction</th>\n",
       "    </tr>\n",
       "  </thead>\n",
       "  <tbody>\n",
       "    <tr>\n",
       "      <th>58</th>\n",
       "      <td>119</td>\n",
       "      <td>[2, 3, 6, 7, 8, 10, 11, 12, 13, 14, 15, 17, 18]</td>\n",
       "      <td>19</td>\n",
       "      <td>20</td>\n",
       "      <td>19</td>\n",
       "      <td>19</td>\n",
       "    </tr>\n",
       "    <tr>\n",
       "      <th>93</th>\n",
       "      <td>186</td>\n",
       "      <td>[2, 6, 7, 8, 10, 11, 17, 18, 21, 23, 24, 26, 2...</td>\n",
       "      <td>59</td>\n",
       "      <td>57</td>\n",
       "      <td>55</td>\n",
       "      <td>59</td>\n",
       "    </tr>\n",
       "    <tr>\n",
       "      <th>195</th>\n",
       "      <td>378</td>\n",
       "      <td>[4, 2, 6, 4, 2, 2, 2, 2, 4, 2, 2, 6, 2, 2, 2, ...</td>\n",
       "      <td>2</td>\n",
       "      <td>2</td>\n",
       "      <td>2</td>\n",
       "      <td>2</td>\n",
       "    </tr>\n",
       "    <tr>\n",
       "      <th>288</th>\n",
       "      <td>595</td>\n",
       "      <td>[1, 1, 1, 1, 0, 1, 1, 0, 2, 1, 1, 2, 0, 1, 1, ...</td>\n",
       "      <td>2</td>\n",
       "      <td>2</td>\n",
       "      <td>3</td>\n",
       "      <td>2</td>\n",
       "    </tr>\n",
       "    <tr>\n",
       "      <th>293</th>\n",
       "      <td>604</td>\n",
       "      <td>[1, 2, 1, 1, 1, 1, 1, 1, 2, 0, 2, 1, 1, 1, 2, ...</td>\n",
       "      <td>2</td>\n",
       "      <td>2</td>\n",
       "      <td>2</td>\n",
       "      <td>2</td>\n",
       "    </tr>\n",
       "  </tbody>\n",
       "</table>\n",
       "</div>"
      ],
      "text/plain": [
       "      Id                                           Sequence Next Predicted  \\\n",
       "58   119    [2, 3, 6, 7, 8, 10, 11, 12, 13, 14, 15, 17, 18]   19        20   \n",
       "93   186  [2, 6, 7, 8, 10, 11, 17, 18, 21, 23, 24, 26, 2...   59        57   \n",
       "195  378  [4, 2, 6, 4, 2, 2, 2, 2, 4, 2, 2, 6, 2, 2, 2, ...    2         2   \n",
       "288  595  [1, 1, 1, 1, 0, 1, 1, 0, 2, 1, 1, 2, 0, 1, 1, ...    2         2   \n",
       "293  604  [1, 2, 1, 1, 1, 1, 1, 1, 2, 0, 2, 1, 1, 1, 2, ...    2         2   \n",
       "\n",
       "    Polynomial Prediction Smoothing Prediction  \n",
       "58                     19                   19  \n",
       "93                     55                   59  \n",
       "195                     2                    2  \n",
       "288                     3                    2  \n",
       "293                     2                    2  "
      ]
     },
     "execution_count": 24,
     "metadata": {},
     "output_type": "execute_result"
    }
   ],
   "source": [
    "smoothing_correct = df[df['Smoothing Prediction'] == df.Next]\n",
    "smoothing_correct.head()"
   ]
  },
  {
   "cell_type": "code",
   "execution_count": 25,
   "metadata": {
    "collapsed": false
   },
   "outputs": [
    {
     "data": {
      "text/plain": [
       "2.9857957290559476"
      ]
     },
     "execution_count": 25,
     "metadata": {},
     "output_type": "execute_result"
    }
   ],
   "source": [
    "smoothing_accuracy = 100 * len(smoothing_correct)/len(df)\n",
    "smoothing_accuracy"
   ]
  },
  {
   "cell_type": "markdown",
   "metadata": {},
   "source": [
    "This method was less accurate than both the linear and polynomial models - using summary statistics is not the best way to increase accuracy."
   ]
  },
  {
   "cell_type": "code",
   "execution_count": 26,
   "metadata": {
    "collapsed": false,
    "scrolled": true
   },
   "outputs": [
    {
     "data": {
      "text/html": [
       "<div>\n",
       "<table border=\"1\" class=\"dataframe\">\n",
       "  <thead>\n",
       "    <tr style=\"text-align: right;\">\n",
       "      <th></th>\n",
       "      <th>Id</th>\n",
       "      <th>Sequence</th>\n",
       "      <th>Next</th>\n",
       "      <th>Predicted</th>\n",
       "      <th>Polynomial Prediction</th>\n",
       "      <th>Smoothing Prediction</th>\n",
       "    </tr>\n",
       "  </thead>\n",
       "  <tbody>\n",
       "    <tr>\n",
       "      <th>58</th>\n",
       "      <td>119</td>\n",
       "      <td>[2, 3, 6, 7, 8, 10, 11, 12, 13, 14, 15, 17, 18]</td>\n",
       "      <td>19</td>\n",
       "      <td>20</td>\n",
       "      <td>19</td>\n",
       "      <td>19</td>\n",
       "    </tr>\n",
       "    <tr>\n",
       "      <th>93</th>\n",
       "      <td>186</td>\n",
       "      <td>[2, 6, 7, 8, 10, 11, 17, 18, 21, 23, 24, 26, 2...</td>\n",
       "      <td>59</td>\n",
       "      <td>57</td>\n",
       "      <td>55</td>\n",
       "      <td>59</td>\n",
       "    </tr>\n",
       "    <tr>\n",
       "      <th>416</th>\n",
       "      <td>850</td>\n",
       "      <td>[48, 97, 146, 195, 244, 293, 300, 307, 314, 32...</td>\n",
       "      <td>1007</td>\n",
       "      <td>979</td>\n",
       "      <td>1186</td>\n",
       "      <td>1007</td>\n",
       "    </tr>\n",
       "    <tr>\n",
       "      <th>495</th>\n",
       "      <td>1003</td>\n",
       "      <td>[1, 2, 3, 10, 9, 8, 7, 6, 5, 4, 17, 16, 15, 14...</td>\n",
       "      <td>71</td>\n",
       "      <td>69</td>\n",
       "      <td>71</td>\n",
       "      <td>71</td>\n",
       "    </tr>\n",
       "    <tr>\n",
       "      <th>977</th>\n",
       "      <td>1930</td>\n",
       "      <td>[1, 4, 2, 5, 3, 6, 9, 7, 10, 8, 11, 14, 12, 15...</td>\n",
       "      <td>74</td>\n",
       "      <td>72</td>\n",
       "      <td>71</td>\n",
       "      <td>74</td>\n",
       "    </tr>\n",
       "    <tr>\n",
       "      <th>1132</th>\n",
       "      <td>2228</td>\n",
       "      <td>[4, 7, 3, 8, 6, 3, 8, 7, 0, 2, 6, 8, 6, 2, 1, ...</td>\n",
       "      <td>4</td>\n",
       "      <td>5</td>\n",
       "      <td>4</td>\n",
       "      <td>4</td>\n",
       "    </tr>\n",
       "    <tr>\n",
       "      <th>1736</th>\n",
       "      <td>3444</td>\n",
       "      <td>[0, 1, 1, 2, 2, 2, 2, 3, 3, 4, 4, 4, 4, 5, 5, ...</td>\n",
       "      <td>28</td>\n",
       "      <td>27</td>\n",
       "      <td>27</td>\n",
       "      <td>28</td>\n",
       "    </tr>\n",
       "    <tr>\n",
       "      <th>1855</th>\n",
       "      <td>3692</td>\n",
       "      <td>[0, 1, 1, 2, 4, 5, 6, 8, 9, 13, 14, 17, 18, 19...</td>\n",
       "      <td>153</td>\n",
       "      <td>148</td>\n",
       "      <td>155</td>\n",
       "      <td>153</td>\n",
       "    </tr>\n",
       "    <tr>\n",
       "      <th>1919</th>\n",
       "      <td>3823</td>\n",
       "      <td>[1, 2, 1, 4, 2, 1, 7, 14, 7, 16, 8, 4, 2, 1, 5...</td>\n",
       "      <td>149</td>\n",
       "      <td>148</td>\n",
       "      <td>371</td>\n",
       "      <td>149</td>\n",
       "    </tr>\n",
       "    <tr>\n",
       "      <th>2049</th>\n",
       "      <td>4092</td>\n",
       "      <td>[7, 23, 28, 39, 55, 71, 87, 92, 103, 112, 135,...</td>\n",
       "      <td>663</td>\n",
       "      <td>645</td>\n",
       "      <td>640</td>\n",
       "      <td>663</td>\n",
       "    </tr>\n",
       "  </tbody>\n",
       "</table>\n",
       "</div>"
      ],
      "text/plain": [
       "        Id                                           Sequence  Next Predicted  \\\n",
       "58     119    [2, 3, 6, 7, 8, 10, 11, 12, 13, 14, 15, 17, 18]    19        20   \n",
       "93     186  [2, 6, 7, 8, 10, 11, 17, 18, 21, 23, 24, 26, 2...    59        57   \n",
       "416    850  [48, 97, 146, 195, 244, 293, 300, 307, 314, 32...  1007       979   \n",
       "495   1003  [1, 2, 3, 10, 9, 8, 7, 6, 5, 4, 17, 16, 15, 14...    71        69   \n",
       "977   1930  [1, 4, 2, 5, 3, 6, 9, 7, 10, 8, 11, 14, 12, 15...    74        72   \n",
       "1132  2228  [4, 7, 3, 8, 6, 3, 8, 7, 0, 2, 6, 8, 6, 2, 1, ...     4         5   \n",
       "1736  3444  [0, 1, 1, 2, 2, 2, 2, 3, 3, 4, 4, 4, 4, 5, 5, ...    28        27   \n",
       "1855  3692  [0, 1, 1, 2, 4, 5, 6, 8, 9, 13, 14, 17, 18, 19...   153       148   \n",
       "1919  3823  [1, 2, 1, 4, 2, 1, 7, 14, 7, 16, 8, 4, 2, 1, 5...   149       148   \n",
       "2049  4092  [7, 23, 28, 39, 55, 71, 87, 92, 103, 112, 135,...   663       645   \n",
       "\n",
       "     Polynomial Prediction Smoothing Prediction  \n",
       "58                      19                   19  \n",
       "93                      55                   59  \n",
       "416                   1186                 1007  \n",
       "495                     71                   71  \n",
       "977                     71                   74  \n",
       "1132                     4                    4  \n",
       "1736                    27                   28  \n",
       "1855                   155                  153  \n",
       "1919                   371                  149  \n",
       "2049                   640                  663  "
      ]
     },
     "execution_count": 26,
     "metadata": {},
     "output_type": "execute_result"
    }
   ],
   "source": [
    "df[(df['Smoothing Prediction'] == df.Next) & (df.Predicted != df.Next)].head(10)"
   ]
  },
  {
   "cell_type": "code",
   "execution_count": 27,
   "metadata": {
    "collapsed": false,
    "scrolled": true
   },
   "outputs": [
    {
     "data": {
      "text/html": [
       "<div>\n",
       "<table border=\"1\" class=\"dataframe\">\n",
       "  <thead>\n",
       "    <tr style=\"text-align: right;\">\n",
       "      <th></th>\n",
       "      <th>Id</th>\n",
       "      <th>Sequence</th>\n",
       "      <th>Next</th>\n",
       "      <th>Predicted</th>\n",
       "      <th>Polynomial Prediction</th>\n",
       "      <th>Smoothing Prediction</th>\n",
       "    </tr>\n",
       "  </thead>\n",
       "  <tbody>\n",
       "    <tr>\n",
       "      <th>0</th>\n",
       "      <td>3</td>\n",
       "      <td>[1, 3, 13, 87, 1053, 28576, 2141733, 508147108...</td>\n",
       "      <td>11474377948948020660089085281068730</td>\n",
       "      <td>9686037302534585361341874176</td>\n",
       "      <td>87173233777729598913654030336</td>\n",
       "      <td>6295931709284709288162361344</td>\n",
       "    </tr>\n",
       "    <tr>\n",
       "      <th>1</th>\n",
       "      <td>7</td>\n",
       "      <td>[1, 2, 1, 5, 5, 1, 11, 16, 7, 1, 23, 44, 30, 9...</td>\n",
       "      <td>7424</td>\n",
       "      <td>2040</td>\n",
       "      <td>-1297</td>\n",
       "      <td>2063</td>\n",
       "    </tr>\n",
       "    <tr>\n",
       "      <th>2</th>\n",
       "      <td>8</td>\n",
       "      <td>[1, 2, 4, 5, 8, 10, 16, 20, 32, 40, 64, 80, 12...</td>\n",
       "      <td>2097152</td>\n",
       "      <td>427497</td>\n",
       "      <td>1675953</td>\n",
       "      <td>445645</td>\n",
       "    </tr>\n",
       "    <tr>\n",
       "      <th>3</th>\n",
       "      <td>11</td>\n",
       "      <td>[1, 8, 25, 83, 274, 2275, 132224, 1060067, 331...</td>\n",
       "      <td>18610239435360217</td>\n",
       "      <td>497554387365308</td>\n",
       "      <td>4396180720475370</td>\n",
       "      <td>473368953981662</td>\n",
       "    </tr>\n",
       "    <tr>\n",
       "      <th>4</th>\n",
       "      <td>13</td>\n",
       "      <td>[1, 111, 12211, 1343211, 147753211, 1625285321...</td>\n",
       "      <td>28792920887348623853211</td>\n",
       "      <td>95924262224266362880</td>\n",
       "      <td>850778089221123342336</td>\n",
       "      <td>52833944948936867840</td>\n",
       "    </tr>\n",
       "  </tbody>\n",
       "</table>\n",
       "</div>"
      ],
      "text/plain": [
       "   Id                                           Sequence  \\\n",
       "0   3  [1, 3, 13, 87, 1053, 28576, 2141733, 508147108...   \n",
       "1   7  [1, 2, 1, 5, 5, 1, 11, 16, 7, 1, 23, 44, 30, 9...   \n",
       "2   8  [1, 2, 4, 5, 8, 10, 16, 20, 32, 40, 64, 80, 12...   \n",
       "3  11  [1, 8, 25, 83, 274, 2275, 132224, 1060067, 331...   \n",
       "4  13  [1, 111, 12211, 1343211, 147753211, 1625285321...   \n",
       "\n",
       "                                  Next                     Predicted  \\\n",
       "0  11474377948948020660089085281068730  9686037302534585361341874176   \n",
       "1                                 7424                          2040   \n",
       "2                              2097152                        427497   \n",
       "3                    18610239435360217               497554387365308   \n",
       "4              28792920887348623853211          95924262224266362880   \n",
       "\n",
       "           Polynomial Prediction          Smoothing Prediction  \n",
       "0  87173233777729598913654030336  6295931709284709288162361344  \n",
       "1                          -1297                          2063  \n",
       "2                        1675953                        445645  \n",
       "3               4396180720475370               473368953981662  \n",
       "4          850778089221123342336          52833944948936867840  "
      ]
     },
     "execution_count": 27,
     "metadata": {},
     "output_type": "execute_result"
    }
   ],
   "source": [
    "df.head()"
   ]
  },
  {
   "cell_type": "markdown",
   "metadata": {},
   "source": [
    "Maybe accuracy isn't the best way to test for the strength of the model. It is unfeasible to predict the future with 100% accuracy, which justifies a switch to a method that rewards being close enough. \n",
    "\n",
    "In statistics, the R^2 value is frequently used as a measure of a model's effectiveness. To aid in the calculations of correlation, we define the neglog function - the same function used in data exploration to shrink the massive numbers at play. \n",
    "\n",
    "Note that since all values are integers, the sign of each number is preserved - if there were numbers in the range (-1, 0) or (0, 1), their signs would be flipped. "
   ]
  },
  {
   "cell_type": "code",
   "execution_count": 28,
   "metadata": {
    "collapsed": false
   },
   "outputs": [
    {
     "data": {
      "text/plain": [
       "0.55954293433803171"
      ]
     },
     "execution_count": 28,
     "metadata": {},
     "output_type": "execute_result"
    }
   ],
   "source": [
    "import math\n",
    "\n",
    "def neglog(a):\n",
    "    if a < 0:\n",
    "        return -1 * math.log(float(a * -1))\n",
    "    if a == 0:\n",
    "        return 0\n",
    "    else:\n",
    "        return math.log(float(a))\n",
    "\n",
    "np.corrcoef(df.Next.apply(neglog), df.Predicted.apply(neglog))[0, 1] ** 2"
   ]
  },
  {
   "cell_type": "code",
   "execution_count": 29,
   "metadata": {
    "collapsed": false
   },
   "outputs": [
    {
     "data": {
      "text/plain": [
       "0.50482907164235291"
      ]
     },
     "execution_count": 29,
     "metadata": {},
     "output_type": "execute_result"
    }
   ],
   "source": [
    "np.corrcoef(df.Next.apply(neglog), df['Polynomial Prediction'].apply(neglog))[0, 1] ** 2"
   ]
  },
  {
   "cell_type": "code",
   "execution_count": 30,
   "metadata": {
    "collapsed": false
   },
   "outputs": [
    {
     "data": {
      "text/plain": [
       "0.56011314113444977"
      ]
     },
     "execution_count": 30,
     "metadata": {},
     "output_type": "execute_result"
    }
   ],
   "source": [
    "np.corrcoef(df.Next.apply(neglog), df['Smoothing Prediction'].apply(neglog))[0, 1] ** 2"
   ]
  },
  {
   "cell_type": "markdown",
   "metadata": {
    "collapsed": true
   },
   "source": [
    "Woah! The R^2 values are inversely proportional to accuracy.  R^2 describes the percentage of variation in predictions that is due to variation in the sequences themselves. Even though smoothing was the worst accuracy-wise, it had the best R^2 score, meaning it was closer overall. It's interesting to note that the polynomial prediction must have been more hit-or-miss: it was more accurate, but when it was off, it was off by more substantial amounts.\n",
    "\n",
    "However, these methods were all pretty inaccurate. Perhaps instead of fitting models to each sequence individually, it makes more sense to consider them as a whole. "
   ]
  },
  {
   "cell_type": "code",
   "execution_count": null,
   "metadata": {
    "collapsed": true
   },
   "outputs": [],
   "source": []
  },
  {
   "cell_type": "code",
   "execution_count": null,
   "metadata": {
    "collapsed": true
   },
   "outputs": [],
   "source": []
  }
 ],
 "metadata": {
  "anaconda-cloud": {},
  "kernelspec": {
   "display_name": "Python [Root]",
   "language": "python",
   "name": "Python [Root]"
  },
  "language_info": {
   "codemirror_mode": {
    "name": "ipython",
    "version": 3
   },
   "file_extension": ".py",
   "mimetype": "text/x-python",
   "name": "python",
   "nbconvert_exporter": "python",
   "pygments_lexer": "ipython3",
   "version": "3.5.2"
  }
 },
 "nbformat": 4,
 "nbformat_minor": 0
}
