{
 "cells": [
  {
   "cell_type": "markdown",
   "metadata": {},
   "source": [
    "After the last set of regressions, we determined that it makes more sense to develop models based on the entire **set** of sequences, rather than each sequence individually. To that end, the following regressions are aggregate models, using cross-validation and grid search as needed. As usual, the first step is Data Wrangling."
   ]
  },
  {
   "cell_type": "code",
   "execution_count": 1,
   "metadata": {
    "collapsed": true
   },
   "outputs": [],
   "source": [
    "import pandas as pd\n",
    "import numpy as np\n",
    "import matplotlib.pyplot as plt\n",
    "import scipy.stats as st\n",
    "%matplotlib inline"
   ]
  },
  {
   "cell_type": "code",
   "execution_count": 2,
   "metadata": {
    "collapsed": false
   },
   "outputs": [
    {
     "data": {
      "text/html": [
       "<div>\n",
       "<table border=\"1\" class=\"dataframe\">\n",
       "  <thead>\n",
       "    <tr style=\"text-align: right;\">\n",
       "      <th></th>\n",
       "      <th>Id</th>\n",
       "      <th>Sequence</th>\n",
       "    </tr>\n",
       "  </thead>\n",
       "  <tbody>\n",
       "    <tr>\n",
       "      <th>0</th>\n",
       "      <td>3</td>\n",
       "      <td>1,3,13,87,1053,28576,2141733,508147108,4021352...</td>\n",
       "    </tr>\n",
       "    <tr>\n",
       "      <th>1</th>\n",
       "      <td>7</td>\n",
       "      <td>1,2,1,5,5,1,11,16,7,1,23,44,30,9,1,47,112,104,...</td>\n",
       "    </tr>\n",
       "    <tr>\n",
       "      <th>2</th>\n",
       "      <td>8</td>\n",
       "      <td>1,2,4,5,8,10,16,20,32,40,64,80,128,160,256,320...</td>\n",
       "    </tr>\n",
       "    <tr>\n",
       "      <th>3</th>\n",
       "      <td>11</td>\n",
       "      <td>1,8,25,83,274,2275,132224,1060067,3312425,1099...</td>\n",
       "    </tr>\n",
       "    <tr>\n",
       "      <th>4</th>\n",
       "      <td>13</td>\n",
       "      <td>1,111,12211,1343211,147753211,16252853211,1787...</td>\n",
       "    </tr>\n",
       "  </tbody>\n",
       "</table>\n",
       "</div>"
      ],
      "text/plain": [
       "   Id                                           Sequence\n",
       "0   3  1,3,13,87,1053,28576,2141733,508147108,4021352...\n",
       "1   7  1,2,1,5,5,1,11,16,7,1,23,44,30,9,1,47,112,104,...\n",
       "2   8  1,2,4,5,8,10,16,20,32,40,64,80,128,160,256,320...\n",
       "3  11  1,8,25,83,274,2275,132224,1060067,3312425,1099...\n",
       "4  13  1,111,12211,1343211,147753211,16252853211,1787..."
      ]
     },
     "execution_count": 2,
     "metadata": {},
     "output_type": "execute_result"
    }
   ],
   "source": [
    "df = pd.read_csv('train.csv')\n",
    "df.head()"
   ]
  },
  {
   "cell_type": "code",
   "execution_count": 3,
   "metadata": {
    "collapsed": false
   },
   "outputs": [
    {
     "data": {
      "text/html": [
       "<div>\n",
       "<table border=\"1\" class=\"dataframe\">\n",
       "  <thead>\n",
       "    <tr style=\"text-align: right;\">\n",
       "      <th></th>\n",
       "      <th>Id</th>\n",
       "      <th>Sequence</th>\n",
       "    </tr>\n",
       "  </thead>\n",
       "  <tbody>\n",
       "    <tr>\n",
       "      <th>0</th>\n",
       "      <td>3</td>\n",
       "      <td>[1, 3, 13, 87, 1053, 28576, 2141733, 508147108...</td>\n",
       "    </tr>\n",
       "    <tr>\n",
       "      <th>1</th>\n",
       "      <td>7</td>\n",
       "      <td>[1, 2, 1, 5, 5, 1, 11, 16, 7, 1, 23, 44, 30, 9...</td>\n",
       "    </tr>\n",
       "    <tr>\n",
       "      <th>2</th>\n",
       "      <td>8</td>\n",
       "      <td>[1, 2, 4, 5, 8, 10, 16, 20, 32, 40, 64, 80, 12...</td>\n",
       "    </tr>\n",
       "    <tr>\n",
       "      <th>3</th>\n",
       "      <td>11</td>\n",
       "      <td>[1, 8, 25, 83, 274, 2275, 132224, 1060067, 331...</td>\n",
       "    </tr>\n",
       "    <tr>\n",
       "      <th>4</th>\n",
       "      <td>13</td>\n",
       "      <td>[1, 111, 12211, 1343211, 147753211, 1625285321...</td>\n",
       "    </tr>\n",
       "  </tbody>\n",
       "</table>\n",
       "</div>"
      ],
      "text/plain": [
       "   Id                                           Sequence\n",
       "0   3  [1, 3, 13, 87, 1053, 28576, 2141733, 508147108...\n",
       "1   7  [1, 2, 1, 5, 5, 1, 11, 16, 7, 1, 23, 44, 30, 9...\n",
       "2   8  [1, 2, 4, 5, 8, 10, 16, 20, 32, 40, 64, 80, 12...\n",
       "3  11  [1, 8, 25, 83, 274, 2275, 132224, 1060067, 331...\n",
       "4  13  [1, 111, 12211, 1343211, 147753211, 1625285321..."
      ]
     },
     "execution_count": 3,
     "metadata": {},
     "output_type": "execute_result"
    }
   ],
   "source": [
    "df.Sequence = df.Sequence.str.split(\",\")\n",
    "df.head()"
   ]
  },
  {
   "cell_type": "code",
   "execution_count": 4,
   "metadata": {
    "collapsed": false,
    "scrolled": true
   },
   "outputs": [
    {
     "data": {
      "text/html": [
       "<div>\n",
       "<table border=\"1\" class=\"dataframe\">\n",
       "  <thead>\n",
       "    <tr style=\"text-align: right;\">\n",
       "      <th></th>\n",
       "      <th>Id</th>\n",
       "      <th>Sequence</th>\n",
       "    </tr>\n",
       "  </thead>\n",
       "  <tbody>\n",
       "    <tr>\n",
       "      <th>0</th>\n",
       "      <td>3</td>\n",
       "      <td>[1, 3, 13, 87, 1053, 28576, 2141733, 508147108...</td>\n",
       "    </tr>\n",
       "    <tr>\n",
       "      <th>1</th>\n",
       "      <td>7</td>\n",
       "      <td>[1, 2, 1, 5, 5, 1, 11, 16, 7, 1, 23, 44, 30, 9...</td>\n",
       "    </tr>\n",
       "    <tr>\n",
       "      <th>2</th>\n",
       "      <td>8</td>\n",
       "      <td>[1, 2, 4, 5, 8, 10, 16, 20, 32, 40, 64, 80, 12...</td>\n",
       "    </tr>\n",
       "    <tr>\n",
       "      <th>3</th>\n",
       "      <td>11</td>\n",
       "      <td>[1, 8, 25, 83, 274, 2275, 132224, 1060067, 331...</td>\n",
       "    </tr>\n",
       "    <tr>\n",
       "      <th>4</th>\n",
       "      <td>13</td>\n",
       "      <td>[1, 111, 12211, 1343211, 147753211, 1625285321...</td>\n",
       "    </tr>\n",
       "  </tbody>\n",
       "</table>\n",
       "</div>"
      ],
      "text/plain": [
       "   Id                                           Sequence\n",
       "0   3  [1, 3, 13, 87, 1053, 28576, 2141733, 508147108...\n",
       "1   7  [1, 2, 1, 5, 5, 1, 11, 16, 7, 1, 23, 44, 30, 9...\n",
       "2   8  [1, 2, 4, 5, 8, 10, 16, 20, 32, 40, 64, 80, 12...\n",
       "3  11  [1, 8, 25, 83, 274, 2275, 132224, 1060067, 331...\n",
       "4  13  [1, 111, 12211, 1343211, 147753211, 1625285321..."
      ]
     },
     "execution_count": 4,
     "metadata": {},
     "output_type": "execute_result"
    }
   ],
   "source": [
    "def conv(a):\n",
    "    return list(map(int, a))\n",
    "df['Sequence'] = df.Sequence.apply(conv)\n",
    "df.head()"
   ]
  },
  {
   "cell_type": "markdown",
   "metadata": {},
   "source": [
    "One of the big variables between sequences has been the length. To develop accurate models, it makes sense to standardize this aspect. Thus, the sequences will be subdivided into smaller, 10-number sequences."
   ]
  },
  {
   "cell_type": "code",
   "execution_count": 5,
   "metadata": {
    "collapsed": false
   },
   "outputs": [
    {
     "data": {
      "text/html": [
       "<div>\n",
       "<table border=\"1\" class=\"dataframe\">\n",
       "  <thead>\n",
       "    <tr style=\"text-align: right;\">\n",
       "      <th></th>\n",
       "      <th>Id</th>\n",
       "      <th>Sequence</th>\n",
       "      <th>Subdivided</th>\n",
       "    </tr>\n",
       "  </thead>\n",
       "  <tbody>\n",
       "    <tr>\n",
       "      <th>0</th>\n",
       "      <td>3</td>\n",
       "      <td>[1, 3, 13, 87, 1053, 28576, 2141733, 508147108...</td>\n",
       "      <td>[[1, 3, 13, 87, 1053, 28576, 2141733, 50814710...</td>\n",
       "    </tr>\n",
       "    <tr>\n",
       "      <th>1</th>\n",
       "      <td>7</td>\n",
       "      <td>[1, 2, 1, 5, 5, 1, 11, 16, 7, 1, 23, 44, 30, 9...</td>\n",
       "      <td>[[1, 2, 1, 5, 5, 1, 11, 16, 7, 1], [23, 44, 30...</td>\n",
       "    </tr>\n",
       "    <tr>\n",
       "      <th>2</th>\n",
       "      <td>8</td>\n",
       "      <td>[1, 2, 4, 5, 8, 10, 16, 20, 32, 40, 64, 80, 12...</td>\n",
       "      <td>[[1, 2, 4, 5, 8, 10, 16, 20, 32, 40], [64, 80,...</td>\n",
       "    </tr>\n",
       "    <tr>\n",
       "      <th>3</th>\n",
       "      <td>11</td>\n",
       "      <td>[1, 8, 25, 83, 274, 2275, 132224, 1060067, 331...</td>\n",
       "      <td>[[1, 8, 25, 83, 274, 2275, 132224, 1060067, 33...</td>\n",
       "    </tr>\n",
       "    <tr>\n",
       "      <th>4</th>\n",
       "      <td>13</td>\n",
       "      <td>[1, 111, 12211, 1343211, 147753211, 1625285321...</td>\n",
       "      <td>[[1, 111, 12211, 1343211, 147753211, 162528532...</td>\n",
       "    </tr>\n",
       "  </tbody>\n",
       "</table>\n",
       "</div>"
      ],
      "text/plain": [
       "   Id                                           Sequence  \\\n",
       "0   3  [1, 3, 13, 87, 1053, 28576, 2141733, 508147108...   \n",
       "1   7  [1, 2, 1, 5, 5, 1, 11, 16, 7, 1, 23, 44, 30, 9...   \n",
       "2   8  [1, 2, 4, 5, 8, 10, 16, 20, 32, 40, 64, 80, 12...   \n",
       "3  11  [1, 8, 25, 83, 274, 2275, 132224, 1060067, 331...   \n",
       "4  13  [1, 111, 12211, 1343211, 147753211, 1625285321...   \n",
       "\n",
       "                                          Subdivided  \n",
       "0  [[1, 3, 13, 87, 1053, 28576, 2141733, 50814710...  \n",
       "1  [[1, 2, 1, 5, 5, 1, 11, 16, 7, 1], [23, 44, 30...  \n",
       "2  [[1, 2, 4, 5, 8, 10, 16, 20, 32, 40], [64, 80,...  \n",
       "3  [[1, 8, 25, 83, 274, 2275, 132224, 1060067, 33...  \n",
       "4  [[1, 111, 12211, 1343211, 147753211, 162528532...  "
      ]
     },
     "execution_count": 5,
     "metadata": {},
     "output_type": "execute_result"
    }
   ],
   "source": [
    "def subdivide(a):\n",
    "    return [a[i*10: (i+1)*10] for i in range(len(a) // 10)]\n",
    "\n",
    "df['Subdivided'] = df.Sequence.apply(subdivide)\n",
    "df.head()"
   ]
  },
  {
   "cell_type": "code",
   "execution_count": 6,
   "metadata": {
    "collapsed": false
   },
   "outputs": [],
   "source": [
    "seqs = []\n",
    "for i in range(len(df)):\n",
    "    for j in range(len(df.Subdivided[i])):\n",
    "        seqs.append(df.Subdivided[i][j])"
   ]
  },
  {
   "cell_type": "code",
   "execution_count": 7,
   "metadata": {
    "collapsed": false
   },
   "outputs": [
    {
     "data": {
      "text/plain": [
       "0    [1, 3, 13, 87, 1053, 28576, 2141733, 508147108...\n",
       "1                     [1, 2, 1, 5, 5, 1, 11, 16, 7, 1]\n",
       "2             [23, 44, 30, 9, 1, 47, 112, 104, 48, 11]\n",
       "3          [1, 95, 272, 320, 200, 70, 13, 1, 191, 640]\n",
       "4    [912, 720, 340, 96, 15, 1, 383, 1472, 2464, 2352]\n",
       "dtype: object"
      ]
     },
     "execution_count": 7,
     "metadata": {},
     "output_type": "execute_result"
    }
   ],
   "source": [
    "seqs = pd.Series(seqs)\n",
    "seqs.head()"
   ]
  },
  {
   "cell_type": "code",
   "execution_count": 8,
   "metadata": {
    "collapsed": false
   },
   "outputs": [
    {
     "data": {
      "text/html": [
       "<div>\n",
       "<table border=\"1\" class=\"dataframe\">\n",
       "  <thead>\n",
       "    <tr style=\"text-align: right;\">\n",
       "      <th></th>\n",
       "      <th>Sequence</th>\n",
       "    </tr>\n",
       "  </thead>\n",
       "  <tbody>\n",
       "    <tr>\n",
       "      <th>0</th>\n",
       "      <td>[1, 3, 13, 87, 1053, 28576, 2141733, 508147108...</td>\n",
       "    </tr>\n",
       "    <tr>\n",
       "      <th>1</th>\n",
       "      <td>[1, 2, 1, 5, 5, 1, 11, 16, 7, 1]</td>\n",
       "    </tr>\n",
       "    <tr>\n",
       "      <th>2</th>\n",
       "      <td>[23, 44, 30, 9, 1, 47, 112, 104, 48, 11]</td>\n",
       "    </tr>\n",
       "    <tr>\n",
       "      <th>3</th>\n",
       "      <td>[1, 95, 272, 320, 200, 70, 13, 1, 191, 640]</td>\n",
       "    </tr>\n",
       "    <tr>\n",
       "      <th>4</th>\n",
       "      <td>[912, 720, 340, 96, 15, 1, 383, 1472, 2464, 2352]</td>\n",
       "    </tr>\n",
       "  </tbody>\n",
       "</table>\n",
       "</div>"
      ],
      "text/plain": [
       "                                            Sequence\n",
       "0  [1, 3, 13, 87, 1053, 28576, 2141733, 508147108...\n",
       "1                   [1, 2, 1, 5, 5, 1, 11, 16, 7, 1]\n",
       "2           [23, 44, 30, 9, 1, 47, 112, 104, 48, 11]\n",
       "3        [1, 95, 272, 320, 200, 70, 13, 1, 191, 640]\n",
       "4  [912, 720, 340, 96, 15, 1, 383, 1472, 2464, 2352]"
      ]
     },
     "execution_count": 8,
     "metadata": {},
     "output_type": "execute_result"
    }
   ],
   "source": [
    "seqs = pd.DataFrame(seqs, columns = ['Sequence'])\n",
    "seqs.head()"
   ]
  },
  {
   "cell_type": "code",
   "execution_count": 9,
   "metadata": {
    "collapsed": false
   },
   "outputs": [
    {
     "data": {
      "text/html": [
       "<div>\n",
       "<table border=\"1\" class=\"dataframe\">\n",
       "  <thead>\n",
       "    <tr style=\"text-align: right;\">\n",
       "      <th></th>\n",
       "      <th>Sequence</th>\n",
       "      <th>Next</th>\n",
       "    </tr>\n",
       "  </thead>\n",
       "  <tbody>\n",
       "    <tr>\n",
       "      <th>0</th>\n",
       "      <td>[1, 3, 13, 87, 1053, 28576, 2141733, 508147108...</td>\n",
       "      <td>1073376057490373</td>\n",
       "    </tr>\n",
       "    <tr>\n",
       "      <th>1</th>\n",
       "      <td>[1, 2, 1, 5, 5, 1, 11, 16, 7, 1]</td>\n",
       "      <td>1</td>\n",
       "    </tr>\n",
       "    <tr>\n",
       "      <th>2</th>\n",
       "      <td>[23, 44, 30, 9, 1, 47, 112, 104, 48, 11]</td>\n",
       "      <td>11</td>\n",
       "    </tr>\n",
       "    <tr>\n",
       "      <th>3</th>\n",
       "      <td>[1, 95, 272, 320, 200, 70, 13, 1, 191, 640]</td>\n",
       "      <td>640</td>\n",
       "    </tr>\n",
       "    <tr>\n",
       "      <th>4</th>\n",
       "      <td>[912, 720, 340, 96, 15, 1, 383, 1472, 2464, 2352]</td>\n",
       "      <td>2352</td>\n",
       "    </tr>\n",
       "  </tbody>\n",
       "</table>\n",
       "</div>"
      ],
      "text/plain": [
       "                                            Sequence              Next\n",
       "0  [1, 3, 13, 87, 1053, 28576, 2141733, 508147108...  1073376057490373\n",
       "1                   [1, 2, 1, 5, 5, 1, 11, 16, 7, 1]                 1\n",
       "2           [23, 44, 30, 9, 1, 47, 112, 104, 48, 11]                11\n",
       "3        [1, 95, 272, 320, 200, 70, 13, 1, 191, 640]               640\n",
       "4  [912, 720, 340, 96, 15, 1, 383, 1472, 2464, 2352]              2352"
      ]
     },
     "execution_count": 9,
     "metadata": {},
     "output_type": "execute_result"
    }
   ],
   "source": [
    "def last(a):\n",
    "    return a[-1]\n",
    "seqs['Next'] = seqs.Sequence.apply(last)\n",
    "seqs.head()"
   ]
  },
  {
   "cell_type": "code",
   "execution_count": 10,
   "metadata": {
    "collapsed": false
   },
   "outputs": [
    {
     "data": {
      "text/html": [
       "<div>\n",
       "<table border=\"1\" class=\"dataframe\">\n",
       "  <thead>\n",
       "    <tr style=\"text-align: right;\">\n",
       "      <th></th>\n",
       "      <th>Sequence</th>\n",
       "      <th>Next</th>\n",
       "    </tr>\n",
       "  </thead>\n",
       "  <tbody>\n",
       "    <tr>\n",
       "      <th>0</th>\n",
       "      <td>[1, 3, 13, 87, 1053, 28576, 2141733, 508147108...</td>\n",
       "      <td>1073376057490373</td>\n",
       "    </tr>\n",
       "    <tr>\n",
       "      <th>1</th>\n",
       "      <td>[1, 2, 1, 5, 5, 1, 11, 16, 7]</td>\n",
       "      <td>1</td>\n",
       "    </tr>\n",
       "    <tr>\n",
       "      <th>2</th>\n",
       "      <td>[23, 44, 30, 9, 1, 47, 112, 104, 48]</td>\n",
       "      <td>11</td>\n",
       "    </tr>\n",
       "    <tr>\n",
       "      <th>3</th>\n",
       "      <td>[1, 95, 272, 320, 200, 70, 13, 1, 191]</td>\n",
       "      <td>640</td>\n",
       "    </tr>\n",
       "    <tr>\n",
       "      <th>4</th>\n",
       "      <td>[912, 720, 340, 96, 15, 1, 383, 1472, 2464]</td>\n",
       "      <td>2352</td>\n",
       "    </tr>\n",
       "  </tbody>\n",
       "</table>\n",
       "</div>"
      ],
      "text/plain": [
       "                                            Sequence              Next\n",
       "0  [1, 3, 13, 87, 1053, 28576, 2141733, 508147108...  1073376057490373\n",
       "1                      [1, 2, 1, 5, 5, 1, 11, 16, 7]                 1\n",
       "2               [23, 44, 30, 9, 1, 47, 112, 104, 48]                11\n",
       "3             [1, 95, 272, 320, 200, 70, 13, 1, 191]               640\n",
       "4        [912, 720, 340, 96, 15, 1, 383, 1472, 2464]              2352"
      ]
     },
     "execution_count": 10,
     "metadata": {},
     "output_type": "execute_result"
    }
   ],
   "source": [
    "def trim(a):\n",
    "    return a[:-1]\n",
    "seqs['Sequence'] = seqs.Sequence.apply(trim)\n",
    "seqs.head()"
   ]
  },
  {
   "cell_type": "markdown",
   "metadata": {},
   "source": [
    "To aid in the regressions, we will create features. Features help a classifier or regressor mathematically come up with more accurate models. Natural choices include basic summary statistics such as the mean and standard deviation."
   ]
  },
  {
   "cell_type": "code",
   "execution_count": 11,
   "metadata": {
    "collapsed": false,
    "scrolled": true
   },
   "outputs": [
    {
     "data": {
      "text/html": [
       "<div>\n",
       "<table border=\"1\" class=\"dataframe\">\n",
       "  <thead>\n",
       "    <tr style=\"text-align: right;\">\n",
       "      <th></th>\n",
       "      <th>Sequence</th>\n",
       "      <th>Next</th>\n",
       "      <th>Mean</th>\n",
       "      <th>Standard Deviation</th>\n",
       "    </tr>\n",
       "  </thead>\n",
       "  <tbody>\n",
       "    <tr>\n",
       "      <th>0</th>\n",
       "      <td>[1, 3, 13, 87, 1053, 28576, 2141733, 508147108...</td>\n",
       "      <td>1073376057490373</td>\n",
       "      <td>4.473840e+10</td>\n",
       "      <td>1.263590e+11</td>\n",
       "    </tr>\n",
       "    <tr>\n",
       "      <th>1</th>\n",
       "      <td>[1, 2, 1, 5, 5, 1, 11, 16, 7]</td>\n",
       "      <td>1</td>\n",
       "      <td>5.444444e+00</td>\n",
       "      <td>4.901499e+00</td>\n",
       "    </tr>\n",
       "    <tr>\n",
       "      <th>2</th>\n",
       "      <td>[23, 44, 30, 9, 1, 47, 112, 104, 48]</td>\n",
       "      <td>11</td>\n",
       "      <td>4.644444e+01</td>\n",
       "      <td>3.637188e+01</td>\n",
       "    </tr>\n",
       "    <tr>\n",
       "      <th>3</th>\n",
       "      <td>[1, 95, 272, 320, 200, 70, 13, 1, 191]</td>\n",
       "      <td>640</td>\n",
       "      <td>1.292222e+02</td>\n",
       "      <td>1.138593e+02</td>\n",
       "    </tr>\n",
       "    <tr>\n",
       "      <th>4</th>\n",
       "      <td>[912, 720, 340, 96, 15, 1, 383, 1472, 2464]</td>\n",
       "      <td>2352</td>\n",
       "      <td>7.114444e+02</td>\n",
       "      <td>7.677222e+02</td>\n",
       "    </tr>\n",
       "  </tbody>\n",
       "</table>\n",
       "</div>"
      ],
      "text/plain": [
       "                                            Sequence              Next  \\\n",
       "0  [1, 3, 13, 87, 1053, 28576, 2141733, 508147108...  1073376057490373   \n",
       "1                      [1, 2, 1, 5, 5, 1, 11, 16, 7]                 1   \n",
       "2               [23, 44, 30, 9, 1, 47, 112, 104, 48]                11   \n",
       "3             [1, 95, 272, 320, 200, 70, 13, 1, 191]               640   \n",
       "4        [912, 720, 340, 96, 15, 1, 383, 1472, 2464]              2352   \n",
       "\n",
       "           Mean  Standard Deviation  \n",
       "0  4.473840e+10        1.263590e+11  \n",
       "1  5.444444e+00        4.901499e+00  \n",
       "2  4.644444e+01        3.637188e+01  \n",
       "3  1.292222e+02        1.138593e+02  \n",
       "4  7.114444e+02        7.677222e+02  "
      ]
     },
     "execution_count": 11,
     "metadata": {},
     "output_type": "execute_result"
    }
   ],
   "source": [
    "def mean(a):\n",
    "    return sum(a)/len(a)\n",
    "seqs['Mean'] = seqs.Sequence.apply(mean)\n",
    "\n",
    "def std(a):\n",
    "    return np.std(a)\n",
    "seqs['Standard Deviation'] = seqs.Sequence.apply(std)\n",
    "\n",
    "seqs.head()"
   ]
  },
  {
   "cell_type": "markdown",
   "metadata": {},
   "source": [
    "Another good feature of a sequence is its **autocorrelation**, the correlation of a sequence with itself at different timelags. This gives an estimate of the predictive power of earlier elements on future ones. The aggregate autocorrelation is here defined as the average squared autocorrelation amongst all valid timelags. \n",
    "\n",
    "Note that the neglog function is again used to shrink the massive numbers while preserving sign."
   ]
  },
  {
   "cell_type": "code",
   "execution_count": 12,
   "metadata": {
    "collapsed": false,
    "scrolled": true
   },
   "outputs": [
    {
     "data": {
      "text/html": [
       "<div>\n",
       "<table border=\"1\" class=\"dataframe\">\n",
       "  <thead>\n",
       "    <tr style=\"text-align: right;\">\n",
       "      <th></th>\n",
       "      <th>Sequence</th>\n",
       "      <th>Next</th>\n",
       "      <th>Mean</th>\n",
       "      <th>Standard Deviation</th>\n",
       "      <th>Aggregate Autocorrelation</th>\n",
       "    </tr>\n",
       "  </thead>\n",
       "  <tbody>\n",
       "    <tr>\n",
       "      <th>0</th>\n",
       "      <td>[1, 3, 13, 87, 1053, 28576, 2141733, 508147108...</td>\n",
       "      <td>1073376057490373</td>\n",
       "      <td>4.473840e+10</td>\n",
       "      <td>1.263590e+11</td>\n",
       "      <td>0.999602</td>\n",
       "    </tr>\n",
       "    <tr>\n",
       "      <th>1</th>\n",
       "      <td>[1, 2, 1, 5, 5, 1, 11, 16, 7]</td>\n",
       "      <td>1</td>\n",
       "      <td>5.444444e+00</td>\n",
       "      <td>4.901499e+00</td>\n",
       "      <td>0.423735</td>\n",
       "    </tr>\n",
       "    <tr>\n",
       "      <th>2</th>\n",
       "      <td>[23, 44, 30, 9, 1, 47, 112, 104, 48]</td>\n",
       "      <td>11</td>\n",
       "      <td>4.644444e+01</td>\n",
       "      <td>3.637188e+01</td>\n",
       "      <td>0.394310</td>\n",
       "    </tr>\n",
       "    <tr>\n",
       "      <th>3</th>\n",
       "      <td>[1, 95, 272, 320, 200, 70, 13, 1, 191]</td>\n",
       "      <td>640</td>\n",
       "      <td>1.292222e+02</td>\n",
       "      <td>1.138593e+02</td>\n",
       "      <td>0.358572</td>\n",
       "    </tr>\n",
       "    <tr>\n",
       "      <th>4</th>\n",
       "      <td>[912, 720, 340, 96, 15, 1, 383, 1472, 2464]</td>\n",
       "      <td>2352</td>\n",
       "      <td>7.114444e+02</td>\n",
       "      <td>7.677222e+02</td>\n",
       "      <td>0.592345</td>\n",
       "    </tr>\n",
       "  </tbody>\n",
       "</table>\n",
       "</div>"
      ],
      "text/plain": [
       "                                            Sequence              Next  \\\n",
       "0  [1, 3, 13, 87, 1053, 28576, 2141733, 508147108...  1073376057490373   \n",
       "1                      [1, 2, 1, 5, 5, 1, 11, 16, 7]                 1   \n",
       "2               [23, 44, 30, 9, 1, 47, 112, 104, 48]                11   \n",
       "3             [1, 95, 272, 320, 200, 70, 13, 1, 191]               640   \n",
       "4        [912, 720, 340, 96, 15, 1, 383, 1472, 2464]              2352   \n",
       "\n",
       "           Mean  Standard Deviation  Aggregate Autocorrelation  \n",
       "0  4.473840e+10        1.263590e+11                   0.999602  \n",
       "1  5.444444e+00        4.901499e+00                   0.423735  \n",
       "2  4.644444e+01        3.637188e+01                   0.394310  \n",
       "3  1.292222e+02        1.138593e+02                   0.358572  \n",
       "4  7.114444e+02        7.677222e+02                   0.592345  "
      ]
     },
     "execution_count": 12,
     "metadata": {},
     "output_type": "execute_result"
    }
   ],
   "source": [
    "import math\n",
    "\n",
    "def neglog(a):\n",
    "    b = a.copy()\n",
    "    for i in range(len(a)):\n",
    "        if a[i] < 0:\n",
    "            b[i] = -1 * math.log(float(a[i] * -1))\n",
    "        elif b[i] > 0:\n",
    "            b[i] = math.log(float(a[i]))\n",
    "        b[i] = float(b[i])\n",
    "    return b\n",
    "\n",
    "def agg_acf(a, length=8):\n",
    "    x = neglog(a)\n",
    "    b = np.array([1]+[np.corrcoef(x[:-i], x[i:])[0, 1] \\\n",
    "        for i in range(1, length)])\n",
    "    b = np.nan_to_num(b)\n",
    "    agg = 0\n",
    "    for i in range(len(b)):\n",
    "        agg += b[i] ** 2\n",
    "    return agg/len(b)\n",
    "    \n",
    "seqs['Aggregate Autocorrelation'] = seqs.Sequence.apply(agg_acf)\n",
    "seqs.head()"
   ]
  },
  {
   "cell_type": "markdown",
   "metadata": {},
   "source": [
    "Exploration of the dataframe shows that the sequences with the highest autocorrelation (those closest to 1) are almost entirely exponential. As the exponential function is it's own derivative, its growth rate maintains similar proportionality during different parts of the series and contributes to a higher autocorrelation/predictive power. \n",
    "\n",
    "The neglog function will be applied to the mean and standard deviation for consistency and ease of data manipulation."
   ]
  },
  {
   "cell_type": "code",
   "execution_count": 13,
   "metadata": {
    "collapsed": false
   },
   "outputs": [
    {
     "data": {
      "text/html": [
       "<div>\n",
       "<table border=\"1\" class=\"dataframe\">\n",
       "  <thead>\n",
       "    <tr style=\"text-align: right;\">\n",
       "      <th></th>\n",
       "      <th>Sequence</th>\n",
       "      <th>Next</th>\n",
       "      <th>Log Mean</th>\n",
       "      <th>Log Dev</th>\n",
       "      <th>Aggregate Autocorrelation</th>\n",
       "    </tr>\n",
       "  </thead>\n",
       "  <tbody>\n",
       "    <tr>\n",
       "      <th>0</th>\n",
       "      <td>[1, 3, 13, 87, 1053, 28576, 2141733, 508147108...</td>\n",
       "      <td>1073376057490373</td>\n",
       "      <td>24.524098</td>\n",
       "      <td>25.562393</td>\n",
       "      <td>0.999602</td>\n",
       "    </tr>\n",
       "    <tr>\n",
       "      <th>1</th>\n",
       "      <td>[1, 2, 1, 5, 5, 1, 11, 16, 7]</td>\n",
       "      <td>1</td>\n",
       "      <td>1.694596</td>\n",
       "      <td>1.589541</td>\n",
       "      <td>0.423735</td>\n",
       "    </tr>\n",
       "    <tr>\n",
       "      <th>2</th>\n",
       "      <td>[23, 44, 30, 9, 1, 47, 112, 104, 48]</td>\n",
       "      <td>11</td>\n",
       "      <td>3.838257</td>\n",
       "      <td>3.593796</td>\n",
       "      <td>0.394310</td>\n",
       "    </tr>\n",
       "    <tr>\n",
       "      <th>3</th>\n",
       "      <td>[1, 95, 272, 320, 200, 70, 13, 1, 191]</td>\n",
       "      <td>640</td>\n",
       "      <td>4.861534</td>\n",
       "      <td>4.734964</td>\n",
       "      <td>0.358572</td>\n",
       "    </tr>\n",
       "    <tr>\n",
       "      <th>4</th>\n",
       "      <td>[912, 720, 340, 96, 15, 1, 383, 1472, 2464]</td>\n",
       "      <td>2352</td>\n",
       "      <td>6.567297</td>\n",
       "      <td>6.643428</td>\n",
       "      <td>0.592345</td>\n",
       "    </tr>\n",
       "  </tbody>\n",
       "</table>\n",
       "</div>"
      ],
      "text/plain": [
       "                                            Sequence              Next  \\\n",
       "0  [1, 3, 13, 87, 1053, 28576, 2141733, 508147108...  1073376057490373   \n",
       "1                      [1, 2, 1, 5, 5, 1, 11, 16, 7]                 1   \n",
       "2               [23, 44, 30, 9, 1, 47, 112, 104, 48]                11   \n",
       "3             [1, 95, 272, 320, 200, 70, 13, 1, 191]               640   \n",
       "4        [912, 720, 340, 96, 15, 1, 383, 1472, 2464]              2352   \n",
       "\n",
       "    Log Mean    Log Dev  Aggregate Autocorrelation  \n",
       "0  24.524098  25.562393                   0.999602  \n",
       "1   1.694596   1.589541                   0.423735  \n",
       "2   3.838257   3.593796                   0.394310  \n",
       "3   4.861534   4.734964                   0.358572  \n",
       "4   6.567297   6.643428                   0.592345  "
      ]
     },
     "execution_count": 13,
     "metadata": {},
     "output_type": "execute_result"
    }
   ],
   "source": [
    "def neglog2(a):\n",
    "    if a < 0:\n",
    "        return -1 * math.log(float(a * -1))\n",
    "    if a == 0:\n",
    "        return 0\n",
    "    else:\n",
    "        return math.log(float(a))\n",
    "\n",
    "seqs['Mean'] = seqs.Mean.apply(neglog2)\n",
    "seqs['Standard Deviation'] = seqs['Standard Deviation'].apply(neglog2)\n",
    "\n",
    "seqs.rename(columns = {'Mean':'Log Mean', 'Standard Deviation': 'Log Dev'}, inplace = True)\n",
    "seqs.head()"
   ]
  },
  {
   "cell_type": "markdown",
   "metadata": {},
   "source": [
    "The autocorrelation describes the predictive power of earlier elements of the sequence. Thus, it makes sense to use the two previous values in the sequence as features, so the regressor can make better predictions.\n",
    "\n",
    "Note that the previous regressions relied entirely on the elements of each individual sequence. Here, we use a mixture of the actual terms, summary statistics, and descriptors of the sequences as a whole for prediction."
   ]
  },
  {
   "cell_type": "code",
   "execution_count": 14,
   "metadata": {
    "collapsed": false,
    "scrolled": true
   },
   "outputs": [
    {
     "data": {
      "text/html": [
       "<div>\n",
       "<table border=\"1\" class=\"dataframe\">\n",
       "  <thead>\n",
       "    <tr style=\"text-align: right;\">\n",
       "      <th></th>\n",
       "      <th>Sequence</th>\n",
       "      <th>Next</th>\n",
       "      <th>Log Mean</th>\n",
       "      <th>Log Dev</th>\n",
       "      <th>Aggregate Autocorrelation</th>\n",
       "      <th>Log SLast</th>\n",
       "      <th>Log Last</th>\n",
       "    </tr>\n",
       "  </thead>\n",
       "  <tbody>\n",
       "    <tr>\n",
       "      <th>0</th>\n",
       "      <td>[1, 3, 13, 87, 1053, 28576, 2141733, 508147108...</td>\n",
       "      <td>1073376057490373</td>\n",
       "      <td>24.524098</td>\n",
       "      <td>25.562393</td>\n",
       "      <td>0.999602</td>\n",
       "      <td>20.046282</td>\n",
       "      <td>26.720054</td>\n",
       "    </tr>\n",
       "    <tr>\n",
       "      <th>1</th>\n",
       "      <td>[1, 2, 1, 5, 5, 1, 11, 16, 7]</td>\n",
       "      <td>1</td>\n",
       "      <td>1.694596</td>\n",
       "      <td>1.589541</td>\n",
       "      <td>0.423735</td>\n",
       "      <td>2.772589</td>\n",
       "      <td>1.945910</td>\n",
       "    </tr>\n",
       "    <tr>\n",
       "      <th>2</th>\n",
       "      <td>[23, 44, 30, 9, 1, 47, 112, 104, 48]</td>\n",
       "      <td>11</td>\n",
       "      <td>3.838257</td>\n",
       "      <td>3.593796</td>\n",
       "      <td>0.394310</td>\n",
       "      <td>4.644391</td>\n",
       "      <td>3.871201</td>\n",
       "    </tr>\n",
       "    <tr>\n",
       "      <th>3</th>\n",
       "      <td>[1, 95, 272, 320, 200, 70, 13, 1, 191]</td>\n",
       "      <td>640</td>\n",
       "      <td>4.861534</td>\n",
       "      <td>4.734964</td>\n",
       "      <td>0.358572</td>\n",
       "      <td>0.000000</td>\n",
       "      <td>5.252273</td>\n",
       "    </tr>\n",
       "    <tr>\n",
       "      <th>4</th>\n",
       "      <td>[912, 720, 340, 96, 15, 1, 383, 1472, 2464]</td>\n",
       "      <td>2352</td>\n",
       "      <td>6.567297</td>\n",
       "      <td>6.643428</td>\n",
       "      <td>0.592345</td>\n",
       "      <td>7.294377</td>\n",
       "      <td>7.809541</td>\n",
       "    </tr>\n",
       "  </tbody>\n",
       "</table>\n",
       "</div>"
      ],
      "text/plain": [
       "                                            Sequence              Next  \\\n",
       "0  [1, 3, 13, 87, 1053, 28576, 2141733, 508147108...  1073376057490373   \n",
       "1                      [1, 2, 1, 5, 5, 1, 11, 16, 7]                 1   \n",
       "2               [23, 44, 30, 9, 1, 47, 112, 104, 48]                11   \n",
       "3             [1, 95, 272, 320, 200, 70, 13, 1, 191]               640   \n",
       "4        [912, 720, 340, 96, 15, 1, 383, 1472, 2464]              2352   \n",
       "\n",
       "    Log Mean    Log Dev  Aggregate Autocorrelation  Log SLast   Log Last  \n",
       "0  24.524098  25.562393                   0.999602  20.046282  26.720054  \n",
       "1   1.694596   1.589541                   0.423735   2.772589   1.945910  \n",
       "2   3.838257   3.593796                   0.394310   4.644391   3.871201  \n",
       "3   4.861534   4.734964                   0.358572   0.000000   5.252273  \n",
       "4   6.567297   6.643428                   0.592345   7.294377   7.809541  "
      ]
     },
     "execution_count": 14,
     "metadata": {},
     "output_type": "execute_result"
    }
   ],
   "source": [
    "def slast(a):\n",
    "    return a[-2]\n",
    "\n",
    "seqs['Log SLast'] = seqs.Sequence.apply(slast).apply(neglog2)\n",
    "seqs['Log Last'] = seqs.Sequence.apply(last).apply(neglog2)\n",
    "\n",
    "seqs.head()"
   ]
  },
  {
   "cell_type": "markdown",
   "metadata": {},
   "source": [
    "The next step is to finalize the dataframes for use in our predictive models. This involves splitting the entire frame into one of features and one with the target number."
   ]
  },
  {
   "cell_type": "code",
   "execution_count": 15,
   "metadata": {
    "collapsed": false
   },
   "outputs": [
    {
     "data": {
      "text/html": [
       "<div>\n",
       "<table border=\"1\" class=\"dataframe\">\n",
       "  <thead>\n",
       "    <tr style=\"text-align: right;\">\n",
       "      <th></th>\n",
       "      <th>Sequence</th>\n",
       "      <th>Log Mean</th>\n",
       "      <th>Log Dev</th>\n",
       "      <th>Aggregate Autocorrelation</th>\n",
       "      <th>Log SLast</th>\n",
       "      <th>Log Last</th>\n",
       "    </tr>\n",
       "  </thead>\n",
       "  <tbody>\n",
       "    <tr>\n",
       "      <th>0</th>\n",
       "      <td>[1, 3, 13, 87, 1053, 28576, 2141733, 508147108...</td>\n",
       "      <td>24.524098</td>\n",
       "      <td>25.562393</td>\n",
       "      <td>0.999602</td>\n",
       "      <td>20.046282</td>\n",
       "      <td>26.720054</td>\n",
       "    </tr>\n",
       "    <tr>\n",
       "      <th>1</th>\n",
       "      <td>[1, 2, 1, 5, 5, 1, 11, 16, 7]</td>\n",
       "      <td>1.694596</td>\n",
       "      <td>1.589541</td>\n",
       "      <td>0.423735</td>\n",
       "      <td>2.772589</td>\n",
       "      <td>1.945910</td>\n",
       "    </tr>\n",
       "    <tr>\n",
       "      <th>2</th>\n",
       "      <td>[23, 44, 30, 9, 1, 47, 112, 104, 48]</td>\n",
       "      <td>3.838257</td>\n",
       "      <td>3.593796</td>\n",
       "      <td>0.394310</td>\n",
       "      <td>4.644391</td>\n",
       "      <td>3.871201</td>\n",
       "    </tr>\n",
       "    <tr>\n",
       "      <th>3</th>\n",
       "      <td>[1, 95, 272, 320, 200, 70, 13, 1, 191]</td>\n",
       "      <td>4.861534</td>\n",
       "      <td>4.734964</td>\n",
       "      <td>0.358572</td>\n",
       "      <td>0.000000</td>\n",
       "      <td>5.252273</td>\n",
       "    </tr>\n",
       "    <tr>\n",
       "      <th>4</th>\n",
       "      <td>[912, 720, 340, 96, 15, 1, 383, 1472, 2464]</td>\n",
       "      <td>6.567297</td>\n",
       "      <td>6.643428</td>\n",
       "      <td>0.592345</td>\n",
       "      <td>7.294377</td>\n",
       "      <td>7.809541</td>\n",
       "    </tr>\n",
       "  </tbody>\n",
       "</table>\n",
       "</div>"
      ],
      "text/plain": [
       "                                            Sequence   Log Mean    Log Dev  \\\n",
       "0  [1, 3, 13, 87, 1053, 28576, 2141733, 508147108...  24.524098  25.562393   \n",
       "1                      [1, 2, 1, 5, 5, 1, 11, 16, 7]   1.694596   1.589541   \n",
       "2               [23, 44, 30, 9, 1, 47, 112, 104, 48]   3.838257   3.593796   \n",
       "3             [1, 95, 272, 320, 200, 70, 13, 1, 191]   4.861534   4.734964   \n",
       "4        [912, 720, 340, 96, 15, 1, 383, 1472, 2464]   6.567297   6.643428   \n",
       "\n",
       "   Aggregate Autocorrelation  Log SLast   Log Last  \n",
       "0                   0.999602  20.046282  26.720054  \n",
       "1                   0.423735   2.772589   1.945910  \n",
       "2                   0.394310   4.644391   3.871201  \n",
       "3                   0.358572   0.000000   5.252273  \n",
       "4                   0.592345   7.294377   7.809541  "
      ]
     },
     "execution_count": 15,
     "metadata": {},
     "output_type": "execute_result"
    }
   ],
   "source": [
    "X = seqs.drop('Next', axis = 1)\n",
    "X.head()"
   ]
  },
  {
   "cell_type": "code",
   "execution_count": 16,
   "metadata": {
    "collapsed": false
   },
   "outputs": [
    {
     "data": {
      "text/plain": [
       "0    34.609585\n",
       "1     0.000000\n",
       "2     2.397895\n",
       "3     6.461468\n",
       "4     7.763021\n",
       "Name: Next, dtype: float64"
      ]
     },
     "execution_count": 16,
     "metadata": {},
     "output_type": "execute_result"
    }
   ],
   "source": [
    "y = seqs.Next.apply(neglog2)\n",
    "y.head()"
   ]
  },
  {
   "cell_type": "code",
   "execution_count": 17,
   "metadata": {
    "collapsed": false,
    "scrolled": false
   },
   "outputs": [
    {
     "data": {
      "text/html": [
       "<div>\n",
       "<table border=\"1\" class=\"dataframe\">\n",
       "  <thead>\n",
       "    <tr style=\"text-align: right;\">\n",
       "      <th></th>\n",
       "      <th>Log Mean</th>\n",
       "      <th>Log Dev</th>\n",
       "      <th>Aggregate Autocorrelation</th>\n",
       "      <th>Log SLast</th>\n",
       "      <th>Log Last</th>\n",
       "    </tr>\n",
       "  </thead>\n",
       "  <tbody>\n",
       "    <tr>\n",
       "      <th>0</th>\n",
       "      <td>24.524098</td>\n",
       "      <td>25.562393</td>\n",
       "      <td>0.999602</td>\n",
       "      <td>20.046282</td>\n",
       "      <td>26.720054</td>\n",
       "    </tr>\n",
       "    <tr>\n",
       "      <th>1</th>\n",
       "      <td>1.694596</td>\n",
       "      <td>1.589541</td>\n",
       "      <td>0.423735</td>\n",
       "      <td>2.772589</td>\n",
       "      <td>1.945910</td>\n",
       "    </tr>\n",
       "    <tr>\n",
       "      <th>2</th>\n",
       "      <td>3.838257</td>\n",
       "      <td>3.593796</td>\n",
       "      <td>0.394310</td>\n",
       "      <td>4.644391</td>\n",
       "      <td>3.871201</td>\n",
       "    </tr>\n",
       "    <tr>\n",
       "      <th>3</th>\n",
       "      <td>4.861534</td>\n",
       "      <td>4.734964</td>\n",
       "      <td>0.358572</td>\n",
       "      <td>0.000000</td>\n",
       "      <td>5.252273</td>\n",
       "    </tr>\n",
       "    <tr>\n",
       "      <th>4</th>\n",
       "      <td>6.567297</td>\n",
       "      <td>6.643428</td>\n",
       "      <td>0.592345</td>\n",
       "      <td>7.294377</td>\n",
       "      <td>7.809541</td>\n",
       "    </tr>\n",
       "  </tbody>\n",
       "</table>\n",
       "</div>"
      ],
      "text/plain": [
       "    Log Mean    Log Dev  Aggregate Autocorrelation  Log SLast   Log Last\n",
       "0  24.524098  25.562393                   0.999602  20.046282  26.720054\n",
       "1   1.694596   1.589541                   0.423735   2.772589   1.945910\n",
       "2   3.838257   3.593796                   0.394310   4.644391   3.871201\n",
       "3   4.861534   4.734964                   0.358572   0.000000   5.252273\n",
       "4   6.567297   6.643428                   0.592345   7.294377   7.809541"
      ]
     },
     "execution_count": 17,
     "metadata": {},
     "output_type": "execute_result"
    }
   ],
   "source": [
    "ft = X.drop('Sequence', axis = 1)\n",
    "ft.head()"
   ]
  },
  {
   "cell_type": "markdown",
   "metadata": {},
   "source": [
    "First, we test basic linear regression - fit over the entire set."
   ]
  },
  {
   "cell_type": "code",
   "execution_count": 18,
   "metadata": {
    "collapsed": false
   },
   "outputs": [
    {
     "data": {
      "text/plain": [
       "0.81076744147652668"
      ]
     },
     "execution_count": 18,
     "metadata": {},
     "output_type": "execute_result"
    }
   ],
   "source": [
    "from sklearn.linear_model import LinearRegression\n",
    "\n",
    "lm = LinearRegression()\n",
    "lm.fit(ft, y)\n",
    "y_lm = lm.predict(ft)\n",
    "\n",
    "lm.score(ft, y)"
   ]
  },
  {
   "cell_type": "code",
   "execution_count": 29,
   "metadata": {
    "collapsed": false
   },
   "outputs": [
    {
     "data": {
      "text/plain": [
       "0.80619678332781886"
      ]
     },
     "execution_count": 29,
     "metadata": {},
     "output_type": "execute_result"
    }
   ],
   "source": [
    "ft_train, ft_test, y_train, y_test = train_test_split(ft, y, test_size = .33, random_state=5)\n",
    "\n",
    "cross_lm = LinearRegression()\n",
    "cross_lm.fit(ft_train, y_train)\n",
    "y_cross_lm = cross_lm.predict(ft_test)\n",
    "\n",
    "cross_lm.score(ft_test, y_test)"
   ]
  },
  {
   "cell_type": "markdown",
   "metadata": {},
   "source": [
    "The linear regression performed substantially better than in the previous set! The use of the entire set and various features definitely made an impact.\n",
    "\n",
    "A different type of regressor uses Support Vector Machines. SVMs are good when the data can't be modeled by just a simple line. It makes sense to try this as perhaps a linear model is a naive approach to the problem.\n",
    "\n",
    "The first step is to grid search for the optimal C parameter."
   ]
  },
  {
   "cell_type": "code",
   "execution_count": 19,
   "metadata": {
    "collapsed": false
   },
   "outputs": [
    {
     "name": "stdout",
     "output_type": "stream",
     "text": [
      "0.795059366585\n",
      "0.794847233978\n",
      "0.793952715844\n",
      "0.790617325888\n",
      "0.448172992655\n",
      "The C with the highest averages score is 0.001\n"
     ]
    }
   ],
   "source": [
    "from sklearn.cross_validation import KFold\n",
    "from sklearn.cross_validation import train_test_split\n",
    "from sklearn.svm import LinearSVR\n",
    "\n",
    "# scoring function to test regressors\n",
    "def cv_score(svr, X, y):\n",
    "    total = len(X)\n",
    "    n_folds = 4\n",
    "    kf = KFold(total, n_folds=n_folds, shuffle=True)\n",
    "    result = 0\n",
    "\n",
    "    for train, test in kf:\n",
    "        X_train = X.loc[train]\n",
    "        X_test = X.loc[test]\n",
    "        y_train = y[train]\n",
    "        y_test = y[test]\n",
    "        X_train = X_train[np.isfinite(X_train['Log Mean'])]\n",
    "        X_test = X_test[np.isfinite(X_test['Log Mean'])]\n",
    "        y_train = y_train[np.isfinite(y_train)]\n",
    "        y_test = y_test[np.isfinite(y_test)]\n",
    "        svr.fit(X_train, y_train)\n",
    "        svr.predict(X_test)\n",
    "        result += svr.score(X_test, y_test)\n",
    "    return result / n_folds\n",
    "\n",
    "#the grid of parameters to search over\n",
    "Cs = [0.001, 0.1, 1, 10, 100]\n",
    "\n",
    "ft_train, ft_test, y_train, y_test = train_test_split(ft, y, test_size = .33, random_state=5)\n",
    "\n",
    "max = 0\n",
    "maxc = 0\n",
    "for i in Cs:\n",
    "    clsvr = LinearSVR(C = i)\n",
    "    score = cv_score(clsvr, ft_train, y_train)\n",
    "    print(score)\n",
    "    if score > max:\n",
    "        max = score\n",
    "        maxc = i\n",
    "print(\"The C with the highest averages score is \" + str(maxc))"
   ]
  },
  {
   "cell_type": "markdown",
   "metadata": {},
   "source": [
    "The LinearSVR is used here because a kernelized SVR does not scale well. The LinearSVR sacrifices accuracy for speed, and with the massive data set we are working with, the speedup was needed for the model to finish training in adequate time. \n",
    "\n",
    "The model was first tested over the entire set, and then with a train-test split."
   ]
  },
  {
   "cell_type": "code",
   "execution_count": 20,
   "metadata": {
    "collapsed": false
   },
   "outputs": [
    {
     "data": {
      "text/plain": [
       "0.7909078538498302"
      ]
     },
     "execution_count": 20,
     "metadata": {},
     "output_type": "execute_result"
    }
   ],
   "source": [
    "lsvr = LinearSVR(C = maxc)\n",
    "lsvr.fit(ft, y)\n",
    "y_lsvr = lsvr.predict(ft)\n",
    "\n",
    "lsvr.score(ft, y)"
   ]
  },
  {
   "cell_type": "code",
   "execution_count": 21,
   "metadata": {
    "collapsed": false
   },
   "outputs": [
    {
     "data": {
      "text/plain": [
       "0.7864102082971558"
      ]
     },
     "execution_count": 21,
     "metadata": {},
     "output_type": "execute_result"
    }
   ],
   "source": [
    "ft_train, ft_test, y_train, y_test = train_test_split(ft, y, test_size = .33, random_state=5)\n",
    "\n",
    "cross_lsvr = LinearSVR(C = maxc)\n",
    "cross_lsvr.fit(ft_train, y_train)\n",
    "y_cross_lsvr = cross_lsvr.predict(ft_test)\n",
    "\n",
    "cross_lsvr.score(ft_test, y_test)"
   ]
  },
  {
   "cell_type": "markdown",
   "metadata": {},
   "source": [
    "Interestingly enough, the linear model proved better than the linear SVR. Perhaps with a kernelized polynomial or rbf SVR, the results would be far better, but it isn't feasible to wait the requisite length of time.\n",
    "\n",
    "The natural successor is the Random Forest Regressor. Since it uses randomized decision trees, it is substantially quicker than the Support Vector Machine, without sacrificing much accuracy."
   ]
  },
  {
   "cell_type": "code",
   "execution_count": 22,
   "metadata": {
    "collapsed": false,
    "scrolled": true
   },
   "outputs": [
    {
     "data": {
      "text/plain": [
       "0.98349664000295189"
      ]
     },
     "execution_count": 22,
     "metadata": {},
     "output_type": "execute_result"
    }
   ],
   "source": [
    "from sklearn.ensemble import RandomForestRegressor as RFR\n",
    "\n",
    "rfr = RFR()\n",
    "rfr.fit(ft, y)\n",
    "y_rfr = rfr.predict(ft)\n",
    "\n",
    "rfr.score(ft, y)"
   ]
  },
  {
   "cell_type": "code",
   "execution_count": 23,
   "metadata": {
    "collapsed": false
   },
   "outputs": [
    {
     "data": {
      "text/plain": [
       "0.89789405721214388"
      ]
     },
     "execution_count": 23,
     "metadata": {},
     "output_type": "execute_result"
    }
   ],
   "source": [
    "ft_train, ft_test, y_train, y_test = train_test_split(ft, y, test_size = .33, random_state=5)\n",
    "\n",
    "cross_rfr = RFR()\n",
    "cross_rfr.fit(ft_train, y_train)\n",
    "y_cross_rfr = cross_rfr.predict(ft_test)\n",
    "\n",
    "cross_rfr.score(ft_test, y_test)"
   ]
  },
  {
   "cell_type": "markdown",
   "metadata": {},
   "source": [
    "Wow! The R^2 value of .90 with the train-test split is a huge improvement over our preliminary approaches. Most importantly, this took substantially less time to run than most of the other models. \n",
    "\n",
    "# Further Investigations\n",
    "\n",
    "There are a lot of parameters involved with the RFR, so a gridsearch on those could ostensibly provide a boost in speed and accuracy. There is also room to experiment with different features, including different elements of the sequences but especially statistics specific to time series. Lastly, ensembling methods could be used to combine multiple predictions.\n",
    "\n",
    "Note that this project shifted away from pure accuracy in favor of using R^2 to test models. It would be interesting to see how the tested methods square up when binary prediction is required, and no points are awarded for being close enough.\n",
    "\n",
    "# Applications\n",
    "\n",
    "The Random Forest Regressor balanced accuracy and speed - making it a prime candidate for industry. While the kernelized SVR could have given an accuracy boost, its slowness precludes it from application.\n",
    "\n",
    "These regressors can be used in any setting that uses sequential or time series data - including the stock market, weather patterns, migration behaviors, financial stability, and much more. Thus, these methods can prove integral to informed decision-making. Although in these notebooks the methods are aimed at the mathematical nature of integer sequence learning, they can easily be applied to the aforementioned practical scenarios. Remember that since the models were tested by their R^2 values, being close enough was valued over pure accuracy - a sacrifice that lends this research better to real-life problems.\n",
    "\n",
    "In those situations, the balance between accuracy and speed is crucial - nobody will pay for a tool that takes forever to run, no matter how accurate, and a model that runs quickly but has no accuracy is about as useful as a Magic 8 Ball. Depending on the setting, the machine learning methods should be tuned and gridsearched for optimal parameters, but the results point to the Random Forest Regressor as a good base approach. Once the model is established, it makes sense to calculate confidence in the generated result - so decisions can be made probabilistically. If the model predicted a 5% increase in a stock's value, but with 95% confidence that the value would increase, you would most likely buy. This is the true power of applying machine learning to raw data. \n",
    "\n",
    "In summary, based on the research conducted, I recommend using Random Forest Regression in conjunction with cross-validation and grid search over tested alternatives to create a fast and accurate model for predicting various time series data in science or industrial settings. \n",
    "\n"
   ]
  }
 ],
 "metadata": {
  "anaconda-cloud": {},
  "kernelspec": {
   "display_name": "Python [Root]",
   "language": "python",
   "name": "Python [Root]"
  },
  "language_info": {
   "codemirror_mode": {
    "name": "ipython",
    "version": 3
   },
   "file_extension": ".py",
   "mimetype": "text/x-python",
   "name": "python",
   "nbconvert_exporter": "python",
   "pygments_lexer": "ipython3",
   "version": "3.5.2"
  }
 },
 "nbformat": 4,
 "nbformat_minor": 0
}
